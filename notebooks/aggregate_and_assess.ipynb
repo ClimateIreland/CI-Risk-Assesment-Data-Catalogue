{
 "cells": [
  {
   "cell_type": "code",
   "execution_count": 13,
   "id": "e5d7acfd",
   "metadata": {},
   "outputs": [],
   "source": [
    "import os\n",
    "import pandas as pd\n",
    "from pathlib import Path\n",
    "import plotly.express as px\n",
    "import plotly.graph_objects as go"
   ]
  },
  {
   "cell_type": "code",
   "execution_count": 74,
   "id": "18def8e8",
   "metadata": {},
   "outputs": [
    {
     "name": "stdout",
     "output_type": "stream",
     "text": [
      "/home/dan/ClimateIreland/CI-Risk-Assesment-Data-Catalogue/notebooks\n",
      "42\n"
     ]
    },
    {
     "data": {
      "text/html": [
       "<div>\n",
       "<style scoped>\n",
       "    .dataframe tbody tr th:only-of-type {\n",
       "        vertical-align: middle;\n",
       "    }\n",
       "\n",
       "    .dataframe tbody tr th {\n",
       "        vertical-align: top;\n",
       "    }\n",
       "\n",
       "    .dataframe thead th {\n",
       "        text-align: right;\n",
       "    }\n",
       "</style>\n",
       "<table border=\"1\" class=\"dataframe\">\n",
       "  <thead>\n",
       "    <tr style=\"text-align: right;\">\n",
       "      <th></th>\n",
       "      <th>Category</th>\n",
       "      <th>Sub-category</th>\n",
       "      <th>Title</th>\n",
       "      <th>Organisation</th>\n",
       "      <th>Organisation Acronym</th>\n",
       "      <th>URL</th>\n",
       "      <th>Coverage</th>\n",
       "      <th>Resolution</th>\n",
       "      <th>Data Format</th>\n",
       "      <th>Last Update</th>\n",
       "      <th>Access to Dataset</th>\n",
       "      <th>Description</th>\n",
       "      <th>Contact</th>\n",
       "      <th>Data Update</th>\n",
       "      <th>Count</th>\n",
       "    </tr>\n",
       "  </thead>\n",
       "  <tbody>\n",
       "    <tr>\n",
       "      <th>0</th>\n",
       "      <td>Background_Support</td>\n",
       "      <td>Admistration boundary</td>\n",
       "      <td>County boundaries</td>\n",
       "      <td>Central Statistics Office</td>\n",
       "      <td>CSO</td>\n",
       "      <td>https://www.cso.ie/en/census/census2016reports...</td>\n",
       "      <td>National</td>\n",
       "      <td>NaN</td>\n",
       "      <td>Shapefile</td>\n",
       "      <td>2021</td>\n",
       "      <td>Direct free download from website</td>\n",
       "      <td>NaN</td>\n",
       "      <td>NaN</td>\n",
       "      <td>NaN</td>\n",
       "      <td>1</td>\n",
       "    </tr>\n",
       "    <tr>\n",
       "      <th>1</th>\n",
       "      <td>Background_Support</td>\n",
       "      <td>Admistration boundary</td>\n",
       "      <td>Coast of Ireland Oblique Imagery Survey 2003</td>\n",
       "      <td>Office of Public Works</td>\n",
       "      <td>OPW</td>\n",
       "      <td>https://www.floodinfo.ie/map/coastal_map/</td>\n",
       "      <td>National</td>\n",
       "      <td>NaN</td>\n",
       "      <td>NaN</td>\n",
       "      <td>2003</td>\n",
       "      <td>View data online. Contact the OPW to request a...</td>\n",
       "      <td>The Coast of Ireland Survey was flown in Septe...</td>\n",
       "      <td>NaN</td>\n",
       "      <td>NaN</td>\n",
       "      <td>1</td>\n",
       "    </tr>\n",
       "    <tr>\n",
       "      <th>2</th>\n",
       "      <td>Background_Support</td>\n",
       "      <td>Admistration boundary</td>\n",
       "      <td>Irish internal waters (bays, estuaries, coasta...</td>\n",
       "      <td>Marine Institute</td>\n",
       "      <td></td>\n",
       "      <td>https://atlas.marine.ie/</td>\n",
       "      <td>Irish Waters</td>\n",
       "      <td>NaN</td>\n",
       "      <td>Shapefile</td>\n",
       "      <td>2021</td>\n",
       "      <td>View and download data from Ireland's Marine A...</td>\n",
       "      <td>NaN</td>\n",
       "      <td>NaN</td>\n",
       "      <td>NaN</td>\n",
       "      <td>1</td>\n",
       "    </tr>\n",
       "    <tr>\n",
       "      <th>3</th>\n",
       "      <td>Background_Support</td>\n",
       "      <td>Admistration boundary</td>\n",
       "      <td>Irish National Grid (ING) - Grid shapefile</td>\n",
       "      <td>Ordnance Survey Ireland</td>\n",
       "      <td>OSi</td>\n",
       "      <td>www.osi.ie</td>\n",
       "      <td>National</td>\n",
       "      <td>NaN</td>\n",
       "      <td>Shapefile</td>\n",
       "      <td>2013</td>\n",
       "      <td>Purchase from OSi</td>\n",
       "      <td>NaN</td>\n",
       "      <td>NaN</td>\n",
       "      <td>NaN</td>\n",
       "      <td>1</td>\n",
       "    </tr>\n",
       "    <tr>\n",
       "      <th>4</th>\n",
       "      <td>Background_Support</td>\n",
       "      <td>Admistration boundary</td>\n",
       "      <td>Irish Transverse Mercator (ITM) - Grid shapefile</td>\n",
       "      <td>Ordnance Survey Ireland</td>\n",
       "      <td>OSi</td>\n",
       "      <td>www.osi.ie</td>\n",
       "      <td>National</td>\n",
       "      <td>NaN</td>\n",
       "      <td>Shapefile</td>\n",
       "      <td>2013</td>\n",
       "      <td>Purchase from OSi</td>\n",
       "      <td>NaN</td>\n",
       "      <td>NaN</td>\n",
       "      <td>NaN</td>\n",
       "      <td>1</td>\n",
       "    </tr>\n",
       "    <tr>\n",
       "      <th>...</th>\n",
       "      <td>...</td>\n",
       "      <td>...</td>\n",
       "      <td>...</td>\n",
       "      <td>...</td>\n",
       "      <td>...</td>\n",
       "      <td>...</td>\n",
       "      <td>...</td>\n",
       "      <td>...</td>\n",
       "      <td>...</td>\n",
       "      <td>...</td>\n",
       "      <td>...</td>\n",
       "      <td>...</td>\n",
       "      <td>...</td>\n",
       "      <td>...</td>\n",
       "      <td>...</td>\n",
       "    </tr>\n",
       "    <tr>\n",
       "      <th>552</th>\n",
       "      <td>Other</td>\n",
       "      <td>NaN</td>\n",
       "      <td>GSHP suitability maps - vertical closed loop</td>\n",
       "      <td>Geological Survey Ireland</td>\n",
       "      <td>GSI</td>\n",
       "      <td>https://www.gsi.ie/en-ie/data-and-maps/Pages/G...</td>\n",
       "      <td>National</td>\n",
       "      <td>NaN</td>\n",
       "      <td>NaN</td>\n",
       "      <td>2015</td>\n",
       "      <td>https://www.gsi.ie/en-ie/data-and-maps/Pages/G...</td>\n",
       "      <td>map showing the ranked suitability of heat col...</td>\n",
       "      <td>Taly Hunter Williams</td>\n",
       "      <td>NaN</td>\n",
       "      <td>1</td>\n",
       "    </tr>\n",
       "    <tr>\n",
       "      <th>553</th>\n",
       "      <td>Other</td>\n",
       "      <td>NaN</td>\n",
       "      <td>GSHP suitability maps - open loop - domestic</td>\n",
       "      <td>Geological Survey Ireland</td>\n",
       "      <td>GSI</td>\n",
       "      <td>https://www.gsi.ie/en-ie/data-and-maps/Pages/G...</td>\n",
       "      <td>National</td>\n",
       "      <td>NaN</td>\n",
       "      <td>NaN</td>\n",
       "      <td>2015</td>\n",
       "      <td>https://www.gsi.ie/en-ie/data-and-maps/Pages/G...</td>\n",
       "      <td>map showing the ranked suitability of heat col...</td>\n",
       "      <td>Taly Hunter Williams</td>\n",
       "      <td>NaN</td>\n",
       "      <td>1</td>\n",
       "    </tr>\n",
       "    <tr>\n",
       "      <th>554</th>\n",
       "      <td>Other</td>\n",
       "      <td>NaN</td>\n",
       "      <td>GSHP suitability maps - open loop - commercial</td>\n",
       "      <td>Geological Survey Ireland</td>\n",
       "      <td>GSI</td>\n",
       "      <td>https://www.gsi.ie/en-ie/data-and-maps/Pages/G...</td>\n",
       "      <td>National</td>\n",
       "      <td>NaN</td>\n",
       "      <td>NaN</td>\n",
       "      <td>2015</td>\n",
       "      <td>https://www.gsi.ie/en-ie/data-and-maps/Pages/G...</td>\n",
       "      <td>map showing the ranked suitability of heat col...</td>\n",
       "      <td>Taly Hunter Williams</td>\n",
       "      <td>NaN</td>\n",
       "      <td>1</td>\n",
       "    </tr>\n",
       "    <tr>\n",
       "      <th>555</th>\n",
       "      <td>Other</td>\n",
       "      <td>NaN</td>\n",
       "      <td>GSHP suitability maps - horizontal closed loop</td>\n",
       "      <td>Geological Survey Ireland</td>\n",
       "      <td>GSI</td>\n",
       "      <td>in prep</td>\n",
       "      <td>National</td>\n",
       "      <td>NaN</td>\n",
       "      <td>NaN</td>\n",
       "      <td>2021</td>\n",
       "      <td>in prep</td>\n",
       "      <td>map showing the ranked suitability of heat col...</td>\n",
       "      <td>Taly Hunter Williams</td>\n",
       "      <td>NaN</td>\n",
       "      <td>1</td>\n",
       "    </tr>\n",
       "    <tr>\n",
       "      <th>556</th>\n",
       "      <td>Other</td>\n",
       "      <td>Climate</td>\n",
       "      <td>Climate suitability indicators for tourism fro...</td>\n",
       "      <td>Copernicus</td>\n",
       "      <td>NaN</td>\n",
       "      <td>https://www.copernicus.eu/en/access-data/coper...</td>\n",
       "      <td>International</td>\n",
       "      <td>0.11° x 0.11°/Gridded</td>\n",
       "      <td>NaN</td>\n",
       "      <td>2018</td>\n",
       "      <td>https://cds.climate.copernicus.eu/cdsapp#!/dat...</td>\n",
       "      <td>This dataset provides a set of climate suitabi...</td>\n",
       "      <td>NaN</td>\n",
       "      <td>NaN</td>\n",
       "      <td>1</td>\n",
       "    </tr>\n",
       "  </tbody>\n",
       "</table>\n",
       "<p>557 rows × 15 columns</p>\n",
       "</div>"
      ],
      "text/plain": [
       "               Category           Sub-category  \\\n",
       "0    Background_Support  Admistration boundary   \n",
       "1    Background_Support  Admistration boundary   \n",
       "2    Background_Support  Admistration boundary   \n",
       "3    Background_Support  Admistration boundary   \n",
       "4    Background_Support  Admistration boundary   \n",
       "..                  ...                    ...   \n",
       "552               Other                    NaN   \n",
       "553               Other                    NaN   \n",
       "554               Other                    NaN   \n",
       "555               Other                    NaN   \n",
       "556               Other                Climate   \n",
       "\n",
       "                                                 Title  \\\n",
       "0                                    County boundaries   \n",
       "1         Coast of Ireland Oblique Imagery Survey 2003   \n",
       "2    Irish internal waters (bays, estuaries, coasta...   \n",
       "3           Irish National Grid (ING) - Grid shapefile   \n",
       "4     Irish Transverse Mercator (ITM) - Grid shapefile   \n",
       "..                                                 ...   \n",
       "552       GSHP suitability maps - vertical closed loop   \n",
       "553       GSHP suitability maps - open loop - domestic   \n",
       "554     GSHP suitability maps - open loop - commercial   \n",
       "555     GSHP suitability maps - horizontal closed loop   \n",
       "556  Climate suitability indicators for tourism fro...   \n",
       "\n",
       "                  Organisation Organisation Acronym  \\\n",
       "0    Central Statistics Office                  CSO   \n",
       "1       Office of Public Works                  OPW   \n",
       "2             Marine Institute                        \n",
       "3      Ordnance Survey Ireland                  OSi   \n",
       "4      Ordnance Survey Ireland                  OSi   \n",
       "..                         ...                  ...   \n",
       "552  Geological Survey Ireland                  GSI   \n",
       "553  Geological Survey Ireland                  GSI   \n",
       "554  Geological Survey Ireland                  GSI   \n",
       "555  Geological Survey Ireland                  GSI   \n",
       "556                 Copernicus                  NaN   \n",
       "\n",
       "                                                   URL       Coverage  \\\n",
       "0    https://www.cso.ie/en/census/census2016reports...       National   \n",
       "1            https://www.floodinfo.ie/map/coastal_map/       National   \n",
       "2                             https://atlas.marine.ie/   Irish Waters   \n",
       "3                                           www.osi.ie       National   \n",
       "4                                           www.osi.ie       National   \n",
       "..                                                 ...            ...   \n",
       "552  https://www.gsi.ie/en-ie/data-and-maps/Pages/G...       National   \n",
       "553  https://www.gsi.ie/en-ie/data-and-maps/Pages/G...       National   \n",
       "554  https://www.gsi.ie/en-ie/data-and-maps/Pages/G...       National   \n",
       "555                                            in prep       National   \n",
       "556  https://www.copernicus.eu/en/access-data/coper...  International   \n",
       "\n",
       "                Resolution Data Format Last Update  \\\n",
       "0                      NaN   Shapefile        2021   \n",
       "1                      NaN         NaN        2003   \n",
       "2                      NaN   Shapefile        2021   \n",
       "3                      NaN   Shapefile        2013   \n",
       "4                      NaN   Shapefile        2013   \n",
       "..                     ...         ...         ...   \n",
       "552                    NaN         NaN        2015   \n",
       "553                    NaN         NaN        2015   \n",
       "554                    NaN         NaN        2015   \n",
       "555                    NaN         NaN        2021   \n",
       "556  0.11° x 0.11°/Gridded         NaN        2018   \n",
       "\n",
       "                                     Access to Dataset  \\\n",
       "0                    Direct free download from website   \n",
       "1    View data online. Contact the OPW to request a...   \n",
       "2    View and download data from Ireland's Marine A...   \n",
       "3                                    Purchase from OSi   \n",
       "4                                    Purchase from OSi   \n",
       "..                                                 ...   \n",
       "552  https://www.gsi.ie/en-ie/data-and-maps/Pages/G...   \n",
       "553  https://www.gsi.ie/en-ie/data-and-maps/Pages/G...   \n",
       "554  https://www.gsi.ie/en-ie/data-and-maps/Pages/G...   \n",
       "555                                            in prep   \n",
       "556  https://cds.climate.copernicus.eu/cdsapp#!/dat...   \n",
       "\n",
       "                                           Description               Contact  \\\n",
       "0                                                  NaN                   NaN   \n",
       "1    The Coast of Ireland Survey was flown in Septe...                   NaN   \n",
       "2                                                  NaN                   NaN   \n",
       "3                                                  NaN                   NaN   \n",
       "4                                                  NaN                   NaN   \n",
       "..                                                 ...                   ...   \n",
       "552  map showing the ranked suitability of heat col...  Taly Hunter Williams   \n",
       "553  map showing the ranked suitability of heat col...  Taly Hunter Williams   \n",
       "554  map showing the ranked suitability of heat col...  Taly Hunter Williams   \n",
       "555  map showing the ranked suitability of heat col...  Taly Hunter Williams   \n",
       "556  This dataset provides a set of climate suitabi...                   NaN   \n",
       "\n",
       "    Data Update  Count  \n",
       "0           NaN      1  \n",
       "1           NaN      1  \n",
       "2           NaN      1  \n",
       "3           NaN      1  \n",
       "4           NaN      1  \n",
       "..          ...    ...  \n",
       "552         NaN      1  \n",
       "553         NaN      1  \n",
       "554         NaN      1  \n",
       "555         NaN      1  \n",
       "556         NaN      1  \n",
       "\n",
       "[557 rows x 15 columns]"
      ]
     },
     "execution_count": 74,
     "metadata": {},
     "output_type": "execute_result"
    }
   ],
   "source": [
    "# dirname = os.path.dirname(__file__)\n",
    "dirname =os.getcwd()\n",
    "print(dirname)\n",
    "filename = os.path.join(dirname, '../data/ra_datasource_ci_catalogue.xlsx')\n",
    "\n",
    "xls = pd.ExcelFile(filename)\n",
    "categories = xls.sheet_names\n",
    "df = pd.DataFrame()\n",
    "for sheet in categories:\n",
    "    temp_df = pd.read_excel(xls, sheet)\n",
    "    temp_df.insert(0,'Category',sheet)\n",
    "    df=df.append(temp_df)\n",
    "df.loc[df['Category'] == \"Projection\", 'Category'] = \"Hazard\"\n",
    "df = df[df['Title'].notna()]\n",
    "df = df.reset_index(drop=True)\n",
    "df.replace(\"AIRO\", \"All Island Research Observatory\",inplace=True)\n",
    "df.replace(\"Department of Arts, Heritage and the Gaeltach\", \"Department of Tourism, Culture, Arts, Gaeltacht, Sport and Media\",inplace=True)\n",
    "df.replace(\"Department of Arts, Heritage and the Gaeltach - National Monuments Service\", \"Department of Tourism, Culture, Arts, Gaeltacht, Sport and Media\",inplace=True)\n",
    "df.replace(\"Department of Housing, Planning and Local Government\", \"Department of Housing, Local Government and Heritage\",inplace=True)\n",
    "df.replace(\"Department of Housing, Planning, Community and Local Government\", \"Department of Housing, Local Government and Heritage\",inplace=True)\n",
    "df.replace(\"Geological Survey of Ireland\",\"Geological Survey Ireland\",inplace=True)\n",
    "\n",
    "df.replace(\"Health Services Executive\",\"Health Service Executive\",inplace=True)\n",
    "df.replace(\"Health Services Executive/Department of Health and Children\",\"Health Service Executive\",inplace=True)\n",
    "df.replace('Heritage Council (based on Atlas of Hillforts of Britain and Ireland)','Heritage Council',inplace=True)\n",
    "df.replace('National Parks and Wildlife Service ','National Parks and Wildlife Service',inplace=True)\n",
    "df.replace('Dublin City Council','Local Authorities',inplace=True)\n",
    "df.replace('Nolan & Flanagan (2020)','EPA Research - Nolan & Flanagan (2020)',inplace=True)\n",
    "\n",
    "\n",
    "df.replace('National Roads Authority of Ireland','Transport Infrastructure Ireland',inplace=True)\n",
    "df.replace('National Transport Authority','Transport Infrastructure Ireland',inplace=True)\n",
    "orgs_list=df.Organisation.unique().tolist()\n",
    "orgs_list.sort()\n",
    "print(len(orgs_list))\n",
    "df['Count']=1\n",
    "df"
   ]
  },
  {
   "cell_type": "code",
   "execution_count": 49,
   "id": "2ee3d5d9",
   "metadata": {},
   "outputs": [],
   "source": [
    "df_cg=df.groupby(['Category']).count()\n",
    "df_og=df.groupby(['Organisation']).count()"
   ]
  },
  {
   "cell_type": "code",
   "execution_count": 50,
   "id": "9e7a96e1",
   "metadata": {},
   "outputs": [
    {
     "data": {
      "text/plain": [
       "['Background_Support', 'Hazard', 'Exposure', 'Vulnerability', 'Other']"
      ]
     },
     "execution_count": 50,
     "metadata": {},
     "output_type": "execute_result"
    }
   ],
   "source": [
    "cat_list"
   ]
  },
  {
   "cell_type": "code",
   "execution_count": 51,
   "id": "2f7d8d9a",
   "metadata": {},
   "outputs": [
    {
     "data": {
      "text/html": [
       "<div>\n",
       "<style scoped>\n",
       "    .dataframe tbody tr th:only-of-type {\n",
       "        vertical-align: middle;\n",
       "    }\n",
       "\n",
       "    .dataframe tbody tr th {\n",
       "        vertical-align: top;\n",
       "    }\n",
       "\n",
       "    .dataframe thead th {\n",
       "        text-align: right;\n",
       "    }\n",
       "</style>\n",
       "<table border=\"1\" class=\"dataframe\">\n",
       "  <thead>\n",
       "    <tr style=\"text-align: right;\">\n",
       "      <th></th>\n",
       "      <th>Organisation</th>\n",
       "      <th>Hazard</th>\n",
       "      <th>Exposure</th>\n",
       "      <th>Vulnerability</th>\n",
       "      <th>Background_Support</th>\n",
       "      <th>Other</th>\n",
       "      <th>Total</th>\n",
       "    </tr>\n",
       "  </thead>\n",
       "  <tbody>\n",
       "    <tr>\n",
       "      <th>0</th>\n",
       "      <td>Heritage Viewer</td>\n",
       "      <td>0</td>\n",
       "      <td>0</td>\n",
       "      <td>0</td>\n",
       "      <td>1</td>\n",
       "      <td>0</td>\n",
       "      <td>1</td>\n",
       "    </tr>\n",
       "    <tr>\n",
       "      <th>0</th>\n",
       "      <td>SRTM - Consortium for Spatial Information</td>\n",
       "      <td>0</td>\n",
       "      <td>0</td>\n",
       "      <td>0</td>\n",
       "      <td>1</td>\n",
       "      <td>0</td>\n",
       "      <td>1</td>\n",
       "    </tr>\n",
       "    <tr>\n",
       "      <th>0</th>\n",
       "      <td>Railway Procurement Agency and National Transp...</td>\n",
       "      <td>0</td>\n",
       "      <td>1</td>\n",
       "      <td>0</td>\n",
       "      <td>0</td>\n",
       "      <td>0</td>\n",
       "      <td>1</td>\n",
       "    </tr>\n",
       "    <tr>\n",
       "      <th>0</th>\n",
       "      <td>Pobal</td>\n",
       "      <td>0</td>\n",
       "      <td>0</td>\n",
       "      <td>1</td>\n",
       "      <td>0</td>\n",
       "      <td>0</td>\n",
       "      <td>1</td>\n",
       "    </tr>\n",
       "    <tr>\n",
       "      <th>0</th>\n",
       "      <td>Irish Spatial Data Exchange</td>\n",
       "      <td>0</td>\n",
       "      <td>0</td>\n",
       "      <td>0</td>\n",
       "      <td>1</td>\n",
       "      <td>0</td>\n",
       "      <td>1</td>\n",
       "    </tr>\n",
       "    <tr>\n",
       "      <th>0</th>\n",
       "      <td>Irish Government</td>\n",
       "      <td>0</td>\n",
       "      <td>0</td>\n",
       "      <td>0</td>\n",
       "      <td>1</td>\n",
       "      <td>0</td>\n",
       "      <td>1</td>\n",
       "    </tr>\n",
       "    <tr>\n",
       "      <th>0</th>\n",
       "      <td>Ireland's National Childcare Directory</td>\n",
       "      <td>0</td>\n",
       "      <td>1</td>\n",
       "      <td>0</td>\n",
       "      <td>0</td>\n",
       "      <td>0</td>\n",
       "      <td>1</td>\n",
       "    </tr>\n",
       "    <tr>\n",
       "      <th>0</th>\n",
       "      <td>GeoHive</td>\n",
       "      <td>0</td>\n",
       "      <td>0</td>\n",
       "      <td>0</td>\n",
       "      <td>1</td>\n",
       "      <td>0</td>\n",
       "      <td>1</td>\n",
       "    </tr>\n",
       "    <tr>\n",
       "      <th>0</th>\n",
       "      <td>European Climate Assessment</td>\n",
       "      <td>0</td>\n",
       "      <td>0</td>\n",
       "      <td>0</td>\n",
       "      <td>1</td>\n",
       "      <td>0</td>\n",
       "      <td>1</td>\n",
       "    </tr>\n",
       "    <tr>\n",
       "      <th>0</th>\n",
       "      <td>Environmental Systems Research Institute</td>\n",
       "      <td>0</td>\n",
       "      <td>0</td>\n",
       "      <td>0</td>\n",
       "      <td>1</td>\n",
       "      <td>0</td>\n",
       "      <td>1</td>\n",
       "    </tr>\n",
       "    <tr>\n",
       "      <th>0</th>\n",
       "      <td>World Urban Database and Access Portal Tools</td>\n",
       "      <td>0</td>\n",
       "      <td>0</td>\n",
       "      <td>1</td>\n",
       "      <td>0</td>\n",
       "      <td>0</td>\n",
       "      <td>1</td>\n",
       "    </tr>\n",
       "    <tr>\n",
       "      <th>0</th>\n",
       "      <td>ESRI</td>\n",
       "      <td>0</td>\n",
       "      <td>0</td>\n",
       "      <td>1</td>\n",
       "      <td>0</td>\n",
       "      <td>0</td>\n",
       "      <td>1</td>\n",
       "    </tr>\n",
       "    <tr>\n",
       "      <th>0</th>\n",
       "      <td>EirGrid</td>\n",
       "      <td>0</td>\n",
       "      <td>1</td>\n",
       "      <td>0</td>\n",
       "      <td>0</td>\n",
       "      <td>0</td>\n",
       "      <td>1</td>\n",
       "    </tr>\n",
       "    <tr>\n",
       "      <th>0</th>\n",
       "      <td>Bord Gais Energy</td>\n",
       "      <td>0</td>\n",
       "      <td>0</td>\n",
       "      <td>1</td>\n",
       "      <td>0</td>\n",
       "      <td>0</td>\n",
       "      <td>1</td>\n",
       "    </tr>\n",
       "    <tr>\n",
       "      <th>0</th>\n",
       "      <td>International Maritime Organization</td>\n",
       "      <td>0</td>\n",
       "      <td>1</td>\n",
       "      <td>1</td>\n",
       "      <td>0</td>\n",
       "      <td>0</td>\n",
       "      <td>2</td>\n",
       "    </tr>\n",
       "    <tr>\n",
       "      <th>0</th>\n",
       "      <td>Irish Wind Energy Association</td>\n",
       "      <td>0</td>\n",
       "      <td>0</td>\n",
       "      <td>2</td>\n",
       "      <td>0</td>\n",
       "      <td>0</td>\n",
       "      <td>2</td>\n",
       "    </tr>\n",
       "    <tr>\n",
       "      <th>0</th>\n",
       "      <td>Community Gardens Ireland</td>\n",
       "      <td>0</td>\n",
       "      <td>1</td>\n",
       "      <td>1</td>\n",
       "      <td>0</td>\n",
       "      <td>0</td>\n",
       "      <td>2</td>\n",
       "    </tr>\n",
       "    <tr>\n",
       "      <th>0</th>\n",
       "      <td>Coillte Teoranta</td>\n",
       "      <td>0</td>\n",
       "      <td>1</td>\n",
       "      <td>1</td>\n",
       "      <td>0</td>\n",
       "      <td>0</td>\n",
       "      <td>2</td>\n",
       "    </tr>\n",
       "    <tr>\n",
       "      <th>0</th>\n",
       "      <td>Flanders Marine Institute (VLIZ)</td>\n",
       "      <td>0</td>\n",
       "      <td>1</td>\n",
       "      <td>1</td>\n",
       "      <td>0</td>\n",
       "      <td>0</td>\n",
       "      <td>2</td>\n",
       "    </tr>\n",
       "    <tr>\n",
       "      <th>0</th>\n",
       "      <td>European Space Agency</td>\n",
       "      <td>0</td>\n",
       "      <td>0</td>\n",
       "      <td>0</td>\n",
       "      <td>2</td>\n",
       "      <td>0</td>\n",
       "      <td>2</td>\n",
       "    </tr>\n",
       "    <tr>\n",
       "      <th>0</th>\n",
       "      <td>US Geological Survey</td>\n",
       "      <td>0</td>\n",
       "      <td>0</td>\n",
       "      <td>0</td>\n",
       "      <td>3</td>\n",
       "      <td>0</td>\n",
       "      <td>3</td>\n",
       "    </tr>\n",
       "    <tr>\n",
       "      <th>0</th>\n",
       "      <td>Department of Tourism, Culture, Arts, Gaeltach...</td>\n",
       "      <td>0</td>\n",
       "      <td>3</td>\n",
       "      <td>0</td>\n",
       "      <td>0</td>\n",
       "      <td>0</td>\n",
       "      <td>3</td>\n",
       "    </tr>\n",
       "    <tr>\n",
       "      <th>0</th>\n",
       "      <td>National Biodiversity Data Centre</td>\n",
       "      <td>1</td>\n",
       "      <td>1</td>\n",
       "      <td>0</td>\n",
       "      <td>1</td>\n",
       "      <td>0</td>\n",
       "      <td>3</td>\n",
       "    </tr>\n",
       "    <tr>\n",
       "      <th>0</th>\n",
       "      <td>National Monuments Service</td>\n",
       "      <td>0</td>\n",
       "      <td>3</td>\n",
       "      <td>0</td>\n",
       "      <td>0</td>\n",
       "      <td>0</td>\n",
       "      <td>3</td>\n",
       "    </tr>\n",
       "    <tr>\n",
       "      <th>0</th>\n",
       "      <td>Teagasc</td>\n",
       "      <td>0</td>\n",
       "      <td>2</td>\n",
       "      <td>1</td>\n",
       "      <td>0</td>\n",
       "      <td>0</td>\n",
       "      <td>3</td>\n",
       "    </tr>\n",
       "    <tr>\n",
       "      <th>0</th>\n",
       "      <td>All Island Research Observatory</td>\n",
       "      <td>0</td>\n",
       "      <td>3</td>\n",
       "      <td>0</td>\n",
       "      <td>1</td>\n",
       "      <td>0</td>\n",
       "      <td>4</td>\n",
       "    </tr>\n",
       "    <tr>\n",
       "      <th>0</th>\n",
       "      <td>Health Service Executive</td>\n",
       "      <td>0</td>\n",
       "      <td>2</td>\n",
       "      <td>6</td>\n",
       "      <td>0</td>\n",
       "      <td>0</td>\n",
       "      <td>8</td>\n",
       "    </tr>\n",
       "    <tr>\n",
       "      <th>0</th>\n",
       "      <td>Department of Housing, Local Government and He...</td>\n",
       "      <td>0</td>\n",
       "      <td>0</td>\n",
       "      <td>1</td>\n",
       "      <td>7</td>\n",
       "      <td>0</td>\n",
       "      <td>8</td>\n",
       "    </tr>\n",
       "    <tr>\n",
       "      <th>0</th>\n",
       "      <td>Copernicus</td>\n",
       "      <td>2</td>\n",
       "      <td>0</td>\n",
       "      <td>5</td>\n",
       "      <td>0</td>\n",
       "      <td>1</td>\n",
       "      <td>8</td>\n",
       "    </tr>\n",
       "    <tr>\n",
       "      <th>0</th>\n",
       "      <td>Transport Infrastructure Ireland</td>\n",
       "      <td>0</td>\n",
       "      <td>8</td>\n",
       "      <td>1</td>\n",
       "      <td>0</td>\n",
       "      <td>0</td>\n",
       "      <td>9</td>\n",
       "    </tr>\n",
       "    <tr>\n",
       "      <th>0</th>\n",
       "      <td>Heritage Council</td>\n",
       "      <td>0</td>\n",
       "      <td>10</td>\n",
       "      <td>0</td>\n",
       "      <td>0</td>\n",
       "      <td>0</td>\n",
       "      <td>10</td>\n",
       "    </tr>\n",
       "    <tr>\n",
       "      <th>0</th>\n",
       "      <td>Met Éireann</td>\n",
       "      <td>0</td>\n",
       "      <td>0</td>\n",
       "      <td>0</td>\n",
       "      <td>12</td>\n",
       "      <td>0</td>\n",
       "      <td>12</td>\n",
       "    </tr>\n",
       "    <tr>\n",
       "      <th>0</th>\n",
       "      <td>Sustainable Energy Authority of Ireland</td>\n",
       "      <td>0</td>\n",
       "      <td>0</td>\n",
       "      <td>8</td>\n",
       "      <td>5</td>\n",
       "      <td>0</td>\n",
       "      <td>13</td>\n",
       "    </tr>\n",
       "    <tr>\n",
       "      <th>0</th>\n",
       "      <td>Local Authorities</td>\n",
       "      <td>0</td>\n",
       "      <td>7</td>\n",
       "      <td>4</td>\n",
       "      <td>4</td>\n",
       "      <td>0</td>\n",
       "      <td>15</td>\n",
       "    </tr>\n",
       "    <tr>\n",
       "      <th>0</th>\n",
       "      <td>EPA Research - Nolan &amp; Flanagan (2020)</td>\n",
       "      <td>16</td>\n",
       "      <td>0</td>\n",
       "      <td>0</td>\n",
       "      <td>0</td>\n",
       "      <td>0</td>\n",
       "      <td>16</td>\n",
       "    </tr>\n",
       "    <tr>\n",
       "      <th>0</th>\n",
       "      <td>Ordnance Survey Ireland</td>\n",
       "      <td>0</td>\n",
       "      <td>16</td>\n",
       "      <td>0</td>\n",
       "      <td>9</td>\n",
       "      <td>0</td>\n",
       "      <td>25</td>\n",
       "    </tr>\n",
       "    <tr>\n",
       "      <th>0</th>\n",
       "      <td>Geological Survey Ireland</td>\n",
       "      <td>8</td>\n",
       "      <td>7</td>\n",
       "      <td>15</td>\n",
       "      <td>2</td>\n",
       "      <td>4</td>\n",
       "      <td>36</td>\n",
       "    </tr>\n",
       "    <tr>\n",
       "      <th>0</th>\n",
       "      <td>Marine Institute</td>\n",
       "      <td>2</td>\n",
       "      <td>7</td>\n",
       "      <td>18</td>\n",
       "      <td>12</td>\n",
       "      <td>0</td>\n",
       "      <td>39</td>\n",
       "    </tr>\n",
       "    <tr>\n",
       "      <th>0</th>\n",
       "      <td>Office of Public Works</td>\n",
       "      <td>48</td>\n",
       "      <td>0</td>\n",
       "      <td>0</td>\n",
       "      <td>2</td>\n",
       "      <td>0</td>\n",
       "      <td>50</td>\n",
       "    </tr>\n",
       "    <tr>\n",
       "      <th>0</th>\n",
       "      <td>Central Statistics Office</td>\n",
       "      <td>0</td>\n",
       "      <td>8</td>\n",
       "      <td>37</td>\n",
       "      <td>7</td>\n",
       "      <td>0</td>\n",
       "      <td>52</td>\n",
       "    </tr>\n",
       "    <tr>\n",
       "      <th>0</th>\n",
       "      <td>Environmental Protection Agency</td>\n",
       "      <td>0</td>\n",
       "      <td>25</td>\n",
       "      <td>64</td>\n",
       "      <td>9</td>\n",
       "      <td>0</td>\n",
       "      <td>98</td>\n",
       "    </tr>\n",
       "    <tr>\n",
       "      <th>0</th>\n",
       "      <td>National Parks and Wildlife Service</td>\n",
       "      <td>0</td>\n",
       "      <td>81</td>\n",
       "      <td>32</td>\n",
       "      <td>0</td>\n",
       "      <td>0</td>\n",
       "      <td>113</td>\n",
       "    </tr>\n",
       "  </tbody>\n",
       "</table>\n",
       "</div>"
      ],
      "text/plain": [
       "                                        Organisation  Hazard  Exposure  \\\n",
       "0                                    Heritage Viewer       0         0   \n",
       "0          SRTM - Consortium for Spatial Information       0         0   \n",
       "0  Railway Procurement Agency and National Transp...       0         1   \n",
       "0                                              Pobal       0         0   \n",
       "0                        Irish Spatial Data Exchange       0         0   \n",
       "0                                   Irish Government       0         0   \n",
       "0             Ireland's National Childcare Directory       0         1   \n",
       "0                                            GeoHive       0         0   \n",
       "0                        European Climate Assessment       0         0   \n",
       "0           Environmental Systems Research Institute       0         0   \n",
       "0       World Urban Database and Access Portal Tools       0         0   \n",
       "0                                               ESRI       0         0   \n",
       "0                                            EirGrid       0         1   \n",
       "0                                   Bord Gais Energy       0         0   \n",
       "0                International Maritime Organization       0         1   \n",
       "0                      Irish Wind Energy Association       0         0   \n",
       "0                          Community Gardens Ireland       0         1   \n",
       "0                                   Coillte Teoranta       0         1   \n",
       "0                   Flanders Marine Institute (VLIZ)       0         1   \n",
       "0                              European Space Agency       0         0   \n",
       "0                               US Geological Survey       0         0   \n",
       "0  Department of Tourism, Culture, Arts, Gaeltach...       0         3   \n",
       "0                  National Biodiversity Data Centre       1         1   \n",
       "0                         National Monuments Service       0         3   \n",
       "0                                            Teagasc       0         2   \n",
       "0                    All Island Research Observatory       0         3   \n",
       "0                           Health Service Executive       0         2   \n",
       "0  Department of Housing, Local Government and He...       0         0   \n",
       "0                                         Copernicus       2         0   \n",
       "0                   Transport Infrastructure Ireland       0         8   \n",
       "0                                   Heritage Council       0        10   \n",
       "0                                        Met Éireann       0         0   \n",
       "0            Sustainable Energy Authority of Ireland       0         0   \n",
       "0                                  Local Authorities       0         7   \n",
       "0             EPA Research - Nolan & Flanagan (2020)      16         0   \n",
       "0                            Ordnance Survey Ireland       0        16   \n",
       "0                          Geological Survey Ireland       8         7   \n",
       "0                                   Marine Institute       2         7   \n",
       "0                             Office of Public Works      48         0   \n",
       "0                          Central Statistics Office       0         8   \n",
       "0                    Environmental Protection Agency       0        25   \n",
       "0                National Parks and Wildlife Service       0        81   \n",
       "\n",
       "   Vulnerability  Background_Support  Other  Total  \n",
       "0              0                   1      0      1  \n",
       "0              0                   1      0      1  \n",
       "0              0                   0      0      1  \n",
       "0              1                   0      0      1  \n",
       "0              0                   1      0      1  \n",
       "0              0                   1      0      1  \n",
       "0              0                   0      0      1  \n",
       "0              0                   1      0      1  \n",
       "0              0                   1      0      1  \n",
       "0              0                   1      0      1  \n",
       "0              1                   0      0      1  \n",
       "0              1                   0      0      1  \n",
       "0              0                   0      0      1  \n",
       "0              1                   0      0      1  \n",
       "0              1                   0      0      2  \n",
       "0              2                   0      0      2  \n",
       "0              1                   0      0      2  \n",
       "0              1                   0      0      2  \n",
       "0              1                   0      0      2  \n",
       "0              0                   2      0      2  \n",
       "0              0                   3      0      3  \n",
       "0              0                   0      0      3  \n",
       "0              0                   1      0      3  \n",
       "0              0                   0      0      3  \n",
       "0              1                   0      0      3  \n",
       "0              0                   1      0      4  \n",
       "0              6                   0      0      8  \n",
       "0              1                   7      0      8  \n",
       "0              5                   0      1      8  \n",
       "0              1                   0      0      9  \n",
       "0              0                   0      0     10  \n",
       "0              0                  12      0     12  \n",
       "0              8                   5      0     13  \n",
       "0              4                   4      0     15  \n",
       "0              0                   0      0     16  \n",
       "0              0                   9      0     25  \n",
       "0             15                   2      4     36  \n",
       "0             18                  12      0     39  \n",
       "0              0                   2      0     50  \n",
       "0             37                   7      0     52  \n",
       "0             64                   9      0     98  \n",
       "0             32                   0      0    113  "
      ]
     },
     "execution_count": 51,
     "metadata": {},
     "output_type": "execute_result"
    }
   ],
   "source": [
    "count_df=pd.DataFrame()\n",
    "for org in orgs_list:\n",
    "    b_s_count = len(df[(df['Organisation']==org) & (df['Category']=='Background_Support')])\n",
    "    h_count = len(df[(df['Organisation']==org) & (df['Category']=='Hazard')])\n",
    "    e_count = len(df[(df['Organisation']==org) & (df['Category']=='Exposure')])\n",
    "    v_count = len(df[(df['Organisation']==org) & (df['Category']=='Vulnerability')])\n",
    "    o_count = len(df[(df['Organisation']==org) & (df['Category']=='Other')])\n",
    "    row_df=pd.DataFrame(\n",
    "        {'Organisation': org, \n",
    "         'Hazard': [h_count],\n",
    "         'Exposure': [e_count],\n",
    "         'Vulnerability':[v_count],\n",
    "         'Background_Support':[b_s_count],\n",
    "         'Other':[o_count],\n",
    "         'Total':[sum([h_count,e_count,v_count,b_s_count,o_count])]\n",
    "        })\n",
    "    count_df=pd.concat([count_df,row_df])\n",
    "count_df=count_df.sort_values('Total')\n",
    "count_df"
   ]
  },
  {
   "cell_type": "code",
   "execution_count": 52,
   "id": "1b98e15d",
   "metadata": {},
   "outputs": [
    {
     "data": {
      "text/plain": [
       "['Bord Gais Energy',\n",
       " 'Coillte Teoranta',\n",
       " 'Community Gardens Ireland',\n",
       " 'Department of Tourism, Culture, Arts, Gaeltacht, Sport and Media',\n",
       " 'ESRI',\n",
       " 'EirGrid',\n",
       " 'Environmental Systems Research Institute',\n",
       " 'European Climate Assessment',\n",
       " 'European Space Agency',\n",
       " 'Flanders Marine Institute (VLIZ)',\n",
       " 'GeoHive',\n",
       " 'Heritage Viewer',\n",
       " 'International Maritime Organization',\n",
       " \"Ireland's National Childcare Directory\",\n",
       " 'Irish Government',\n",
       " 'Irish Spatial Data Exchange',\n",
       " 'Irish Wind Energy Association',\n",
       " 'National Biodiversity Data Centre',\n",
       " 'National Monuments Service',\n",
       " 'Pobal',\n",
       " 'Railway Procurement Agency and National Transport Authority',\n",
       " 'SRTM - Consortium for Spatial Information',\n",
       " 'Teagasc',\n",
       " 'US Geological Survey',\n",
       " 'World Urban Database and Access Portal Tools']"
      ]
     },
     "execution_count": 52,
     "metadata": {},
     "output_type": "execute_result"
    }
   ],
   "source": [
    "\n",
    "other_df=count_df[count_df['Total']<=3]\n",
    "other_orgs_list=other_df.Organisation.unique().tolist()\n",
    "other_orgs_list.sort()\n",
    "other_orgs_list"
   ]
  },
  {
   "cell_type": "code",
   "execution_count": 53,
   "id": "d43ed039",
   "metadata": {},
   "outputs": [],
   "source": [
    "other_row_df=pd.DataFrame(\n",
    "        {'Organisation': 'Other', \n",
    "         'Hazard': [other_df['Hazard'].sum()],\n",
    "         'Exposure': [other_df['Exposure'].sum()],\n",
    "         'Vulnerability':[other_df['Vulnerability'].sum()],\n",
    "         'Background_Support':[other_df['Background_Support'].sum()],\n",
    "         'Other':[other_df['Other'].sum()],\n",
    "         'Total':[sum([other_df['Total'].sum()])]\n",
    "        })"
   ]
  },
  {
   "cell_type": "code",
   "execution_count": 54,
   "id": "ffefe540",
   "metadata": {},
   "outputs": [],
   "source": [
    "count_df_reduced=count_df[count_df['Total']>3]\n",
    "count_df_reduced=pd.concat([other_row_df,count_df_reduced])"
   ]
  },
  {
   "cell_type": "code",
   "execution_count": 72,
   "id": "657b810b",
   "metadata": {},
   "outputs": [
    {
     "data": {
      "application/vnd.plotly.v1+json": {
       "config": {
        "plotlyServerURL": "https://plot.ly"
       },
       "data": [
        {
         "name": "Vulnerability",
         "orientation": "h",
         "type": "bar",
         "x": [
          11,
          0,
          6,
          1,
          5,
          1,
          0,
          0,
          8,
          4,
          0,
          0,
          15,
          18,
          0,
          37,
          64,
          32
         ],
         "y": [
          "Other",
          "All Island Research Observatory",
          "Health Service Executive",
          "Department of Housing, Local Government and Heritage",
          "Copernicus",
          "Transport Infrastructure Ireland",
          "Heritage Council",
          "Met Éireann",
          "Sustainable Energy Authority of Ireland",
          "Local Authorities",
          "EPA Research - Nolan & Flanagan (2020)",
          "Ordnance Survey Ireland",
          "Geological Survey Ireland",
          "Marine Institute",
          "Office of Public Works",
          "Central Statistics Office",
          "Environmental Protection Agency",
          "National Parks and Wildlife Service"
         ]
        },
        {
         "name": "Exposure",
         "orientation": "h",
         "type": "bar",
         "x": [
          16,
          3,
          2,
          0,
          0,
          8,
          10,
          0,
          0,
          7,
          0,
          16,
          7,
          7,
          0,
          8,
          25,
          81
         ],
         "y": [
          "Other",
          "All Island Research Observatory",
          "Health Service Executive",
          "Department of Housing, Local Government and Heritage",
          "Copernicus",
          "Transport Infrastructure Ireland",
          "Heritage Council",
          "Met Éireann",
          "Sustainable Energy Authority of Ireland",
          "Local Authorities",
          "EPA Research - Nolan & Flanagan (2020)",
          "Ordnance Survey Ireland",
          "Geological Survey Ireland",
          "Marine Institute",
          "Office of Public Works",
          "Central Statistics Office",
          "Environmental Protection Agency",
          "National Parks and Wildlife Service"
         ]
        },
        {
         "name": "Hazard",
         "orientation": "h",
         "type": "bar",
         "x": [
          1,
          0,
          0,
          0,
          2,
          0,
          0,
          0,
          0,
          0,
          16,
          0,
          8,
          2,
          48,
          0,
          0,
          0
         ],
         "y": [
          "Other",
          "All Island Research Observatory",
          "Health Service Executive",
          "Department of Housing, Local Government and Heritage",
          "Copernicus",
          "Transport Infrastructure Ireland",
          "Heritage Council",
          "Met Éireann",
          "Sustainable Energy Authority of Ireland",
          "Local Authorities",
          "EPA Research - Nolan & Flanagan (2020)",
          "Ordnance Survey Ireland",
          "Geological Survey Ireland",
          "Marine Institute",
          "Office of Public Works",
          "Central Statistics Office",
          "Environmental Protection Agency",
          "National Parks and Wildlife Service"
         ]
        },
        {
         "name": "Background_Support",
         "orientation": "h",
         "type": "bar",
         "x": [
          13,
          1,
          0,
          7,
          0,
          0,
          0,
          12,
          5,
          4,
          0,
          9,
          2,
          12,
          2,
          7,
          9,
          0
         ],
         "y": [
          "Other",
          "All Island Research Observatory",
          "Health Service Executive",
          "Department of Housing, Local Government and Heritage",
          "Copernicus",
          "Transport Infrastructure Ireland",
          "Heritage Council",
          "Met Éireann",
          "Sustainable Energy Authority of Ireland",
          "Local Authorities",
          "EPA Research - Nolan & Flanagan (2020)",
          "Ordnance Survey Ireland",
          "Geological Survey Ireland",
          "Marine Institute",
          "Office of Public Works",
          "Central Statistics Office",
          "Environmental Protection Agency",
          "National Parks and Wildlife Service"
         ]
        },
        {
         "name": "Other",
         "orientation": "h",
         "type": "bar",
         "x": [
          0,
          0,
          0,
          0,
          1,
          0,
          0,
          0,
          0,
          0,
          0,
          0,
          4,
          0,
          0,
          0,
          0,
          0
         ],
         "y": [
          "Other",
          "All Island Research Observatory",
          "Health Service Executive",
          "Department of Housing, Local Government and Heritage",
          "Copernicus",
          "Transport Infrastructure Ireland",
          "Heritage Council",
          "Met Éireann",
          "Sustainable Energy Authority of Ireland",
          "Local Authorities",
          "EPA Research - Nolan & Flanagan (2020)",
          "Ordnance Survey Ireland",
          "Geological Survey Ireland",
          "Marine Institute",
          "Office of Public Works",
          "Central Statistics Office",
          "Environmental Protection Agency",
          "National Parks and Wildlife Service"
         ]
        }
       ],
       "layout": {
        "barmode": "stack",
        "template": {
         "data": {
          "bar": [
           {
            "error_x": {
             "color": "#2a3f5f"
            },
            "error_y": {
             "color": "#2a3f5f"
            },
            "marker": {
             "line": {
              "color": "#E5ECF6",
              "width": 0.5
             },
             "pattern": {
              "fillmode": "overlay",
              "size": 10,
              "solidity": 0.2
             }
            },
            "type": "bar"
           }
          ],
          "barpolar": [
           {
            "marker": {
             "line": {
              "color": "#E5ECF6",
              "width": 0.5
             },
             "pattern": {
              "fillmode": "overlay",
              "size": 10,
              "solidity": 0.2
             }
            },
            "type": "barpolar"
           }
          ],
          "carpet": [
           {
            "aaxis": {
             "endlinecolor": "#2a3f5f",
             "gridcolor": "white",
             "linecolor": "white",
             "minorgridcolor": "white",
             "startlinecolor": "#2a3f5f"
            },
            "baxis": {
             "endlinecolor": "#2a3f5f",
             "gridcolor": "white",
             "linecolor": "white",
             "minorgridcolor": "white",
             "startlinecolor": "#2a3f5f"
            },
            "type": "carpet"
           }
          ],
          "choropleth": [
           {
            "colorbar": {
             "outlinewidth": 0,
             "ticks": ""
            },
            "type": "choropleth"
           }
          ],
          "contour": [
           {
            "colorbar": {
             "outlinewidth": 0,
             "ticks": ""
            },
            "colorscale": [
             [
              0,
              "#0d0887"
             ],
             [
              0.1111111111111111,
              "#46039f"
             ],
             [
              0.2222222222222222,
              "#7201a8"
             ],
             [
              0.3333333333333333,
              "#9c179e"
             ],
             [
              0.4444444444444444,
              "#bd3786"
             ],
             [
              0.5555555555555556,
              "#d8576b"
             ],
             [
              0.6666666666666666,
              "#ed7953"
             ],
             [
              0.7777777777777778,
              "#fb9f3a"
             ],
             [
              0.8888888888888888,
              "#fdca26"
             ],
             [
              1,
              "#f0f921"
             ]
            ],
            "type": "contour"
           }
          ],
          "contourcarpet": [
           {
            "colorbar": {
             "outlinewidth": 0,
             "ticks": ""
            },
            "type": "contourcarpet"
           }
          ],
          "heatmap": [
           {
            "colorbar": {
             "outlinewidth": 0,
             "ticks": ""
            },
            "colorscale": [
             [
              0,
              "#0d0887"
             ],
             [
              0.1111111111111111,
              "#46039f"
             ],
             [
              0.2222222222222222,
              "#7201a8"
             ],
             [
              0.3333333333333333,
              "#9c179e"
             ],
             [
              0.4444444444444444,
              "#bd3786"
             ],
             [
              0.5555555555555556,
              "#d8576b"
             ],
             [
              0.6666666666666666,
              "#ed7953"
             ],
             [
              0.7777777777777778,
              "#fb9f3a"
             ],
             [
              0.8888888888888888,
              "#fdca26"
             ],
             [
              1,
              "#f0f921"
             ]
            ],
            "type": "heatmap"
           }
          ],
          "heatmapgl": [
           {
            "colorbar": {
             "outlinewidth": 0,
             "ticks": ""
            },
            "colorscale": [
             [
              0,
              "#0d0887"
             ],
             [
              0.1111111111111111,
              "#46039f"
             ],
             [
              0.2222222222222222,
              "#7201a8"
             ],
             [
              0.3333333333333333,
              "#9c179e"
             ],
             [
              0.4444444444444444,
              "#bd3786"
             ],
             [
              0.5555555555555556,
              "#d8576b"
             ],
             [
              0.6666666666666666,
              "#ed7953"
             ],
             [
              0.7777777777777778,
              "#fb9f3a"
             ],
             [
              0.8888888888888888,
              "#fdca26"
             ],
             [
              1,
              "#f0f921"
             ]
            ],
            "type": "heatmapgl"
           }
          ],
          "histogram": [
           {
            "marker": {
             "pattern": {
              "fillmode": "overlay",
              "size": 10,
              "solidity": 0.2
             }
            },
            "type": "histogram"
           }
          ],
          "histogram2d": [
           {
            "colorbar": {
             "outlinewidth": 0,
             "ticks": ""
            },
            "colorscale": [
             [
              0,
              "#0d0887"
             ],
             [
              0.1111111111111111,
              "#46039f"
             ],
             [
              0.2222222222222222,
              "#7201a8"
             ],
             [
              0.3333333333333333,
              "#9c179e"
             ],
             [
              0.4444444444444444,
              "#bd3786"
             ],
             [
              0.5555555555555556,
              "#d8576b"
             ],
             [
              0.6666666666666666,
              "#ed7953"
             ],
             [
              0.7777777777777778,
              "#fb9f3a"
             ],
             [
              0.8888888888888888,
              "#fdca26"
             ],
             [
              1,
              "#f0f921"
             ]
            ],
            "type": "histogram2d"
           }
          ],
          "histogram2dcontour": [
           {
            "colorbar": {
             "outlinewidth": 0,
             "ticks": ""
            },
            "colorscale": [
             [
              0,
              "#0d0887"
             ],
             [
              0.1111111111111111,
              "#46039f"
             ],
             [
              0.2222222222222222,
              "#7201a8"
             ],
             [
              0.3333333333333333,
              "#9c179e"
             ],
             [
              0.4444444444444444,
              "#bd3786"
             ],
             [
              0.5555555555555556,
              "#d8576b"
             ],
             [
              0.6666666666666666,
              "#ed7953"
             ],
             [
              0.7777777777777778,
              "#fb9f3a"
             ],
             [
              0.8888888888888888,
              "#fdca26"
             ],
             [
              1,
              "#f0f921"
             ]
            ],
            "type": "histogram2dcontour"
           }
          ],
          "mesh3d": [
           {
            "colorbar": {
             "outlinewidth": 0,
             "ticks": ""
            },
            "type": "mesh3d"
           }
          ],
          "parcoords": [
           {
            "line": {
             "colorbar": {
              "outlinewidth": 0,
              "ticks": ""
             }
            },
            "type": "parcoords"
           }
          ],
          "pie": [
           {
            "automargin": true,
            "type": "pie"
           }
          ],
          "scatter": [
           {
            "marker": {
             "colorbar": {
              "outlinewidth": 0,
              "ticks": ""
             }
            },
            "type": "scatter"
           }
          ],
          "scatter3d": [
           {
            "line": {
             "colorbar": {
              "outlinewidth": 0,
              "ticks": ""
             }
            },
            "marker": {
             "colorbar": {
              "outlinewidth": 0,
              "ticks": ""
             }
            },
            "type": "scatter3d"
           }
          ],
          "scattercarpet": [
           {
            "marker": {
             "colorbar": {
              "outlinewidth": 0,
              "ticks": ""
             }
            },
            "type": "scattercarpet"
           }
          ],
          "scattergeo": [
           {
            "marker": {
             "colorbar": {
              "outlinewidth": 0,
              "ticks": ""
             }
            },
            "type": "scattergeo"
           }
          ],
          "scattergl": [
           {
            "marker": {
             "colorbar": {
              "outlinewidth": 0,
              "ticks": ""
             }
            },
            "type": "scattergl"
           }
          ],
          "scattermapbox": [
           {
            "marker": {
             "colorbar": {
              "outlinewidth": 0,
              "ticks": ""
             }
            },
            "type": "scattermapbox"
           }
          ],
          "scatterpolar": [
           {
            "marker": {
             "colorbar": {
              "outlinewidth": 0,
              "ticks": ""
             }
            },
            "type": "scatterpolar"
           }
          ],
          "scatterpolargl": [
           {
            "marker": {
             "colorbar": {
              "outlinewidth": 0,
              "ticks": ""
             }
            },
            "type": "scatterpolargl"
           }
          ],
          "scatterternary": [
           {
            "marker": {
             "colorbar": {
              "outlinewidth": 0,
              "ticks": ""
             }
            },
            "type": "scatterternary"
           }
          ],
          "surface": [
           {
            "colorbar": {
             "outlinewidth": 0,
             "ticks": ""
            },
            "colorscale": [
             [
              0,
              "#0d0887"
             ],
             [
              0.1111111111111111,
              "#46039f"
             ],
             [
              0.2222222222222222,
              "#7201a8"
             ],
             [
              0.3333333333333333,
              "#9c179e"
             ],
             [
              0.4444444444444444,
              "#bd3786"
             ],
             [
              0.5555555555555556,
              "#d8576b"
             ],
             [
              0.6666666666666666,
              "#ed7953"
             ],
             [
              0.7777777777777778,
              "#fb9f3a"
             ],
             [
              0.8888888888888888,
              "#fdca26"
             ],
             [
              1,
              "#f0f921"
             ]
            ],
            "type": "surface"
           }
          ],
          "table": [
           {
            "cells": {
             "fill": {
              "color": "#EBF0F8"
             },
             "line": {
              "color": "white"
             }
            },
            "header": {
             "fill": {
              "color": "#C8D4E3"
             },
             "line": {
              "color": "white"
             }
            },
            "type": "table"
           }
          ]
         },
         "layout": {
          "annotationdefaults": {
           "arrowcolor": "#2a3f5f",
           "arrowhead": 0,
           "arrowwidth": 1
          },
          "autotypenumbers": "strict",
          "coloraxis": {
           "colorbar": {
            "outlinewidth": 0,
            "ticks": ""
           }
          },
          "colorscale": {
           "diverging": [
            [
             0,
             "#8e0152"
            ],
            [
             0.1,
             "#c51b7d"
            ],
            [
             0.2,
             "#de77ae"
            ],
            [
             0.3,
             "#f1b6da"
            ],
            [
             0.4,
             "#fde0ef"
            ],
            [
             0.5,
             "#f7f7f7"
            ],
            [
             0.6,
             "#e6f5d0"
            ],
            [
             0.7,
             "#b8e186"
            ],
            [
             0.8,
             "#7fbc41"
            ],
            [
             0.9,
             "#4d9221"
            ],
            [
             1,
             "#276419"
            ]
           ],
           "sequential": [
            [
             0,
             "#0d0887"
            ],
            [
             0.1111111111111111,
             "#46039f"
            ],
            [
             0.2222222222222222,
             "#7201a8"
            ],
            [
             0.3333333333333333,
             "#9c179e"
            ],
            [
             0.4444444444444444,
             "#bd3786"
            ],
            [
             0.5555555555555556,
             "#d8576b"
            ],
            [
             0.6666666666666666,
             "#ed7953"
            ],
            [
             0.7777777777777778,
             "#fb9f3a"
            ],
            [
             0.8888888888888888,
             "#fdca26"
            ],
            [
             1,
             "#f0f921"
            ]
           ],
           "sequentialminus": [
            [
             0,
             "#0d0887"
            ],
            [
             0.1111111111111111,
             "#46039f"
            ],
            [
             0.2222222222222222,
             "#7201a8"
            ],
            [
             0.3333333333333333,
             "#9c179e"
            ],
            [
             0.4444444444444444,
             "#bd3786"
            ],
            [
             0.5555555555555556,
             "#d8576b"
            ],
            [
             0.6666666666666666,
             "#ed7953"
            ],
            [
             0.7777777777777778,
             "#fb9f3a"
            ],
            [
             0.8888888888888888,
             "#fdca26"
            ],
            [
             1,
             "#f0f921"
            ]
           ]
          },
          "colorway": [
           "#636efa",
           "#EF553B",
           "#00cc96",
           "#ab63fa",
           "#FFA15A",
           "#19d3f3",
           "#FF6692",
           "#B6E880",
           "#FF97FF",
           "#FECB52"
          ],
          "font": {
           "color": "#2a3f5f"
          },
          "geo": {
           "bgcolor": "white",
           "lakecolor": "white",
           "landcolor": "#E5ECF6",
           "showlakes": true,
           "showland": true,
           "subunitcolor": "white"
          },
          "hoverlabel": {
           "align": "left"
          },
          "hovermode": "closest",
          "mapbox": {
           "style": "light"
          },
          "paper_bgcolor": "white",
          "plot_bgcolor": "#E5ECF6",
          "polar": {
           "angularaxis": {
            "gridcolor": "white",
            "linecolor": "white",
            "ticks": ""
           },
           "bgcolor": "#E5ECF6",
           "radialaxis": {
            "gridcolor": "white",
            "linecolor": "white",
            "ticks": ""
           }
          },
          "scene": {
           "xaxis": {
            "backgroundcolor": "#E5ECF6",
            "gridcolor": "white",
            "gridwidth": 2,
            "linecolor": "white",
            "showbackground": true,
            "ticks": "",
            "zerolinecolor": "white"
           },
           "yaxis": {
            "backgroundcolor": "#E5ECF6",
            "gridcolor": "white",
            "gridwidth": 2,
            "linecolor": "white",
            "showbackground": true,
            "ticks": "",
            "zerolinecolor": "white"
           },
           "zaxis": {
            "backgroundcolor": "#E5ECF6",
            "gridcolor": "white",
            "gridwidth": 2,
            "linecolor": "white",
            "showbackground": true,
            "ticks": "",
            "zerolinecolor": "white"
           }
          },
          "shapedefaults": {
           "line": {
            "color": "#2a3f5f"
           }
          },
          "ternary": {
           "aaxis": {
            "gridcolor": "white",
            "linecolor": "white",
            "ticks": ""
           },
           "baxis": {
            "gridcolor": "white",
            "linecolor": "white",
            "ticks": ""
           },
           "bgcolor": "#E5ECF6",
           "caxis": {
            "gridcolor": "white",
            "linecolor": "white",
            "ticks": ""
           }
          },
          "title": {
           "x": 0.05
          },
          "xaxis": {
           "automargin": true,
           "gridcolor": "white",
           "linecolor": "white",
           "ticks": "",
           "title": {
            "standoff": 15
           },
           "zerolinecolor": "white",
           "zerolinewidth": 2
          },
          "yaxis": {
           "automargin": true,
           "gridcolor": "white",
           "linecolor": "white",
           "ticks": "",
           "title": {
            "standoff": 15
           },
           "zerolinecolor": "white",
           "zerolinewidth": 2
          }
         }
        },
        "xaxis": {
         "title": {
          "text": "No. Identified Datasets"
         }
        }
       }
      },
      "text/html": [
       "<div>                            <div id=\"bbacc2c6-0623-4ce5-9d5d-1953345b7ddb\" class=\"plotly-graph-div\" style=\"height:525px; width:100%;\"></div>            <script type=\"text/javascript\">                require([\"plotly\"], function(Plotly) {                    window.PLOTLYENV=window.PLOTLYENV || {};                                    if (document.getElementById(\"bbacc2c6-0623-4ce5-9d5d-1953345b7ddb\")) {                    Plotly.newPlot(                        \"bbacc2c6-0623-4ce5-9d5d-1953345b7ddb\",                        [{\"name\":\"Vulnerability\",\"orientation\":\"h\",\"type\":\"bar\",\"x\":[11,0,6,1,5,1,0,0,8,4,0,0,15,18,0,37,64,32],\"y\":[\"Other\",\"All Island Research Observatory\",\"Health Service Executive\",\"Department of Housing, Local Government and Heritage\",\"Copernicus\",\"Transport Infrastructure Ireland\",\"Heritage Council\",\"Met \\u00c9ireann\",\"Sustainable Energy Authority of Ireland\",\"Local Authorities\",\"EPA Research - Nolan & Flanagan (2020)\",\"Ordnance Survey Ireland\",\"Geological Survey Ireland\",\"Marine Institute\",\"Office of Public Works\",\"Central Statistics Office\",\"Environmental Protection Agency\",\"National Parks and Wildlife Service\"]},{\"name\":\"Exposure\",\"orientation\":\"h\",\"type\":\"bar\",\"x\":[16,3,2,0,0,8,10,0,0,7,0,16,7,7,0,8,25,81],\"y\":[\"Other\",\"All Island Research Observatory\",\"Health Service Executive\",\"Department of Housing, Local Government and Heritage\",\"Copernicus\",\"Transport Infrastructure Ireland\",\"Heritage Council\",\"Met \\u00c9ireann\",\"Sustainable Energy Authority of Ireland\",\"Local Authorities\",\"EPA Research - Nolan & Flanagan (2020)\",\"Ordnance Survey Ireland\",\"Geological Survey Ireland\",\"Marine Institute\",\"Office of Public Works\",\"Central Statistics Office\",\"Environmental Protection Agency\",\"National Parks and Wildlife Service\"]},{\"name\":\"Hazard\",\"orientation\":\"h\",\"type\":\"bar\",\"x\":[1,0,0,0,2,0,0,0,0,0,16,0,8,2,48,0,0,0],\"y\":[\"Other\",\"All Island Research Observatory\",\"Health Service Executive\",\"Department of Housing, Local Government and Heritage\",\"Copernicus\",\"Transport Infrastructure Ireland\",\"Heritage Council\",\"Met \\u00c9ireann\",\"Sustainable Energy Authority of Ireland\",\"Local Authorities\",\"EPA Research - Nolan & Flanagan (2020)\",\"Ordnance Survey Ireland\",\"Geological Survey Ireland\",\"Marine Institute\",\"Office of Public Works\",\"Central Statistics Office\",\"Environmental Protection Agency\",\"National Parks and Wildlife Service\"]},{\"name\":\"Background_Support\",\"orientation\":\"h\",\"type\":\"bar\",\"x\":[13,1,0,7,0,0,0,12,5,4,0,9,2,12,2,7,9,0],\"y\":[\"Other\",\"All Island Research Observatory\",\"Health Service Executive\",\"Department of Housing, Local Government and Heritage\",\"Copernicus\",\"Transport Infrastructure Ireland\",\"Heritage Council\",\"Met \\u00c9ireann\",\"Sustainable Energy Authority of Ireland\",\"Local Authorities\",\"EPA Research - Nolan & Flanagan (2020)\",\"Ordnance Survey Ireland\",\"Geological Survey Ireland\",\"Marine Institute\",\"Office of Public Works\",\"Central Statistics Office\",\"Environmental Protection Agency\",\"National Parks and Wildlife Service\"]},{\"name\":\"Other\",\"orientation\":\"h\",\"type\":\"bar\",\"x\":[0,0,0,0,1,0,0,0,0,0,0,0,4,0,0,0,0,0],\"y\":[\"Other\",\"All Island Research Observatory\",\"Health Service Executive\",\"Department of Housing, Local Government and Heritage\",\"Copernicus\",\"Transport Infrastructure Ireland\",\"Heritage Council\",\"Met \\u00c9ireann\",\"Sustainable Energy Authority of Ireland\",\"Local Authorities\",\"EPA Research - Nolan & Flanagan (2020)\",\"Ordnance Survey Ireland\",\"Geological Survey Ireland\",\"Marine Institute\",\"Office of Public Works\",\"Central Statistics Office\",\"Environmental Protection Agency\",\"National Parks and Wildlife Service\"]}],                        {\"barmode\":\"stack\",\"template\":{\"data\":{\"bar\":[{\"error_x\":{\"color\":\"#2a3f5f\"},\"error_y\":{\"color\":\"#2a3f5f\"},\"marker\":{\"line\":{\"color\":\"#E5ECF6\",\"width\":0.5},\"pattern\":{\"fillmode\":\"overlay\",\"size\":10,\"solidity\":0.2}},\"type\":\"bar\"}],\"barpolar\":[{\"marker\":{\"line\":{\"color\":\"#E5ECF6\",\"width\":0.5},\"pattern\":{\"fillmode\":\"overlay\",\"size\":10,\"solidity\":0.2}},\"type\":\"barpolar\"}],\"carpet\":[{\"aaxis\":{\"endlinecolor\":\"#2a3f5f\",\"gridcolor\":\"white\",\"linecolor\":\"white\",\"minorgridcolor\":\"white\",\"startlinecolor\":\"#2a3f5f\"},\"baxis\":{\"endlinecolor\":\"#2a3f5f\",\"gridcolor\":\"white\",\"linecolor\":\"white\",\"minorgridcolor\":\"white\",\"startlinecolor\":\"#2a3f5f\"},\"type\":\"carpet\"}],\"choropleth\":[{\"colorbar\":{\"outlinewidth\":0,\"ticks\":\"\"},\"type\":\"choropleth\"}],\"contour\":[{\"colorbar\":{\"outlinewidth\":0,\"ticks\":\"\"},\"colorscale\":[[0.0,\"#0d0887\"],[0.1111111111111111,\"#46039f\"],[0.2222222222222222,\"#7201a8\"],[0.3333333333333333,\"#9c179e\"],[0.4444444444444444,\"#bd3786\"],[0.5555555555555556,\"#d8576b\"],[0.6666666666666666,\"#ed7953\"],[0.7777777777777778,\"#fb9f3a\"],[0.8888888888888888,\"#fdca26\"],[1.0,\"#f0f921\"]],\"type\":\"contour\"}],\"contourcarpet\":[{\"colorbar\":{\"outlinewidth\":0,\"ticks\":\"\"},\"type\":\"contourcarpet\"}],\"heatmap\":[{\"colorbar\":{\"outlinewidth\":0,\"ticks\":\"\"},\"colorscale\":[[0.0,\"#0d0887\"],[0.1111111111111111,\"#46039f\"],[0.2222222222222222,\"#7201a8\"],[0.3333333333333333,\"#9c179e\"],[0.4444444444444444,\"#bd3786\"],[0.5555555555555556,\"#d8576b\"],[0.6666666666666666,\"#ed7953\"],[0.7777777777777778,\"#fb9f3a\"],[0.8888888888888888,\"#fdca26\"],[1.0,\"#f0f921\"]],\"type\":\"heatmap\"}],\"heatmapgl\":[{\"colorbar\":{\"outlinewidth\":0,\"ticks\":\"\"},\"colorscale\":[[0.0,\"#0d0887\"],[0.1111111111111111,\"#46039f\"],[0.2222222222222222,\"#7201a8\"],[0.3333333333333333,\"#9c179e\"],[0.4444444444444444,\"#bd3786\"],[0.5555555555555556,\"#d8576b\"],[0.6666666666666666,\"#ed7953\"],[0.7777777777777778,\"#fb9f3a\"],[0.8888888888888888,\"#fdca26\"],[1.0,\"#f0f921\"]],\"type\":\"heatmapgl\"}],\"histogram\":[{\"marker\":{\"pattern\":{\"fillmode\":\"overlay\",\"size\":10,\"solidity\":0.2}},\"type\":\"histogram\"}],\"histogram2d\":[{\"colorbar\":{\"outlinewidth\":0,\"ticks\":\"\"},\"colorscale\":[[0.0,\"#0d0887\"],[0.1111111111111111,\"#46039f\"],[0.2222222222222222,\"#7201a8\"],[0.3333333333333333,\"#9c179e\"],[0.4444444444444444,\"#bd3786\"],[0.5555555555555556,\"#d8576b\"],[0.6666666666666666,\"#ed7953\"],[0.7777777777777778,\"#fb9f3a\"],[0.8888888888888888,\"#fdca26\"],[1.0,\"#f0f921\"]],\"type\":\"histogram2d\"}],\"histogram2dcontour\":[{\"colorbar\":{\"outlinewidth\":0,\"ticks\":\"\"},\"colorscale\":[[0.0,\"#0d0887\"],[0.1111111111111111,\"#46039f\"],[0.2222222222222222,\"#7201a8\"],[0.3333333333333333,\"#9c179e\"],[0.4444444444444444,\"#bd3786\"],[0.5555555555555556,\"#d8576b\"],[0.6666666666666666,\"#ed7953\"],[0.7777777777777778,\"#fb9f3a\"],[0.8888888888888888,\"#fdca26\"],[1.0,\"#f0f921\"]],\"type\":\"histogram2dcontour\"}],\"mesh3d\":[{\"colorbar\":{\"outlinewidth\":0,\"ticks\":\"\"},\"type\":\"mesh3d\"}],\"parcoords\":[{\"line\":{\"colorbar\":{\"outlinewidth\":0,\"ticks\":\"\"}},\"type\":\"parcoords\"}],\"pie\":[{\"automargin\":true,\"type\":\"pie\"}],\"scatter\":[{\"marker\":{\"colorbar\":{\"outlinewidth\":0,\"ticks\":\"\"}},\"type\":\"scatter\"}],\"scatter3d\":[{\"line\":{\"colorbar\":{\"outlinewidth\":0,\"ticks\":\"\"}},\"marker\":{\"colorbar\":{\"outlinewidth\":0,\"ticks\":\"\"}},\"type\":\"scatter3d\"}],\"scattercarpet\":[{\"marker\":{\"colorbar\":{\"outlinewidth\":0,\"ticks\":\"\"}},\"type\":\"scattercarpet\"}],\"scattergeo\":[{\"marker\":{\"colorbar\":{\"outlinewidth\":0,\"ticks\":\"\"}},\"type\":\"scattergeo\"}],\"scattergl\":[{\"marker\":{\"colorbar\":{\"outlinewidth\":0,\"ticks\":\"\"}},\"type\":\"scattergl\"}],\"scattermapbox\":[{\"marker\":{\"colorbar\":{\"outlinewidth\":0,\"ticks\":\"\"}},\"type\":\"scattermapbox\"}],\"scatterpolar\":[{\"marker\":{\"colorbar\":{\"outlinewidth\":0,\"ticks\":\"\"}},\"type\":\"scatterpolar\"}],\"scatterpolargl\":[{\"marker\":{\"colorbar\":{\"outlinewidth\":0,\"ticks\":\"\"}},\"type\":\"scatterpolargl\"}],\"scatterternary\":[{\"marker\":{\"colorbar\":{\"outlinewidth\":0,\"ticks\":\"\"}},\"type\":\"scatterternary\"}],\"surface\":[{\"colorbar\":{\"outlinewidth\":0,\"ticks\":\"\"},\"colorscale\":[[0.0,\"#0d0887\"],[0.1111111111111111,\"#46039f\"],[0.2222222222222222,\"#7201a8\"],[0.3333333333333333,\"#9c179e\"],[0.4444444444444444,\"#bd3786\"],[0.5555555555555556,\"#d8576b\"],[0.6666666666666666,\"#ed7953\"],[0.7777777777777778,\"#fb9f3a\"],[0.8888888888888888,\"#fdca26\"],[1.0,\"#f0f921\"]],\"type\":\"surface\"}],\"table\":[{\"cells\":{\"fill\":{\"color\":\"#EBF0F8\"},\"line\":{\"color\":\"white\"}},\"header\":{\"fill\":{\"color\":\"#C8D4E3\"},\"line\":{\"color\":\"white\"}},\"type\":\"table\"}]},\"layout\":{\"annotationdefaults\":{\"arrowcolor\":\"#2a3f5f\",\"arrowhead\":0,\"arrowwidth\":1},\"autotypenumbers\":\"strict\",\"coloraxis\":{\"colorbar\":{\"outlinewidth\":0,\"ticks\":\"\"}},\"colorscale\":{\"diverging\":[[0,\"#8e0152\"],[0.1,\"#c51b7d\"],[0.2,\"#de77ae\"],[0.3,\"#f1b6da\"],[0.4,\"#fde0ef\"],[0.5,\"#f7f7f7\"],[0.6,\"#e6f5d0\"],[0.7,\"#b8e186\"],[0.8,\"#7fbc41\"],[0.9,\"#4d9221\"],[1,\"#276419\"]],\"sequential\":[[0.0,\"#0d0887\"],[0.1111111111111111,\"#46039f\"],[0.2222222222222222,\"#7201a8\"],[0.3333333333333333,\"#9c179e\"],[0.4444444444444444,\"#bd3786\"],[0.5555555555555556,\"#d8576b\"],[0.6666666666666666,\"#ed7953\"],[0.7777777777777778,\"#fb9f3a\"],[0.8888888888888888,\"#fdca26\"],[1.0,\"#f0f921\"]],\"sequentialminus\":[[0.0,\"#0d0887\"],[0.1111111111111111,\"#46039f\"],[0.2222222222222222,\"#7201a8\"],[0.3333333333333333,\"#9c179e\"],[0.4444444444444444,\"#bd3786\"],[0.5555555555555556,\"#d8576b\"],[0.6666666666666666,\"#ed7953\"],[0.7777777777777778,\"#fb9f3a\"],[0.8888888888888888,\"#fdca26\"],[1.0,\"#f0f921\"]]},\"colorway\":[\"#636efa\",\"#EF553B\",\"#00cc96\",\"#ab63fa\",\"#FFA15A\",\"#19d3f3\",\"#FF6692\",\"#B6E880\",\"#FF97FF\",\"#FECB52\"],\"font\":{\"color\":\"#2a3f5f\"},\"geo\":{\"bgcolor\":\"white\",\"lakecolor\":\"white\",\"landcolor\":\"#E5ECF6\",\"showlakes\":true,\"showland\":true,\"subunitcolor\":\"white\"},\"hoverlabel\":{\"align\":\"left\"},\"hovermode\":\"closest\",\"mapbox\":{\"style\":\"light\"},\"paper_bgcolor\":\"white\",\"plot_bgcolor\":\"#E5ECF6\",\"polar\":{\"angularaxis\":{\"gridcolor\":\"white\",\"linecolor\":\"white\",\"ticks\":\"\"},\"bgcolor\":\"#E5ECF6\",\"radialaxis\":{\"gridcolor\":\"white\",\"linecolor\":\"white\",\"ticks\":\"\"}},\"scene\":{\"xaxis\":{\"backgroundcolor\":\"#E5ECF6\",\"gridcolor\":\"white\",\"gridwidth\":2,\"linecolor\":\"white\",\"showbackground\":true,\"ticks\":\"\",\"zerolinecolor\":\"white\"},\"yaxis\":{\"backgroundcolor\":\"#E5ECF6\",\"gridcolor\":\"white\",\"gridwidth\":2,\"linecolor\":\"white\",\"showbackground\":true,\"ticks\":\"\",\"zerolinecolor\":\"white\"},\"zaxis\":{\"backgroundcolor\":\"#E5ECF6\",\"gridcolor\":\"white\",\"gridwidth\":2,\"linecolor\":\"white\",\"showbackground\":true,\"ticks\":\"\",\"zerolinecolor\":\"white\"}},\"shapedefaults\":{\"line\":{\"color\":\"#2a3f5f\"}},\"ternary\":{\"aaxis\":{\"gridcolor\":\"white\",\"linecolor\":\"white\",\"ticks\":\"\"},\"baxis\":{\"gridcolor\":\"white\",\"linecolor\":\"white\",\"ticks\":\"\"},\"bgcolor\":\"#E5ECF6\",\"caxis\":{\"gridcolor\":\"white\",\"linecolor\":\"white\",\"ticks\":\"\"}},\"title\":{\"x\":0.05},\"xaxis\":{\"automargin\":true,\"gridcolor\":\"white\",\"linecolor\":\"white\",\"ticks\":\"\",\"title\":{\"standoff\":15},\"zerolinecolor\":\"white\",\"zerolinewidth\":2},\"yaxis\":{\"automargin\":true,\"gridcolor\":\"white\",\"linecolor\":\"white\",\"ticks\":\"\",\"title\":{\"standoff\":15},\"zerolinecolor\":\"white\",\"zerolinewidth\":2}}},\"xaxis\":{\"title\":{\"text\":\"No. Identified Datasets\"}}},                        {\"responsive\": true}                    ).then(function(){\n",
       "                            \n",
       "var gd = document.getElementById('bbacc2c6-0623-4ce5-9d5d-1953345b7ddb');\n",
       "var x = new MutationObserver(function (mutations, observer) {{\n",
       "        var display = window.getComputedStyle(gd).display;\n",
       "        if (!display || display === 'none') {{\n",
       "            console.log([gd, 'removed!']);\n",
       "            Plotly.purge(gd);\n",
       "            observer.disconnect();\n",
       "        }}\n",
       "}});\n",
       "\n",
       "// Listen for the removal of the full notebook cells\n",
       "var notebookContainer = gd.closest('#notebook-container');\n",
       "if (notebookContainer) {{\n",
       "    x.observe(notebookContainer, {childList: true});\n",
       "}}\n",
       "\n",
       "// Listen for the clearing of the current output cell\n",
       "var outputEl = gd.closest('.output');\n",
       "if (outputEl) {{\n",
       "    x.observe(outputEl, {childList: true});\n",
       "}}\n",
       "\n",
       "                        })                };                });            </script>        </div>"
      ]
     },
     "metadata": {},
     "output_type": "display_data"
    }
   ],
   "source": [
    "org_fig = go.Figure()\n",
    "org_fig.add_trace(go.Bar(\n",
    "    x=count_df_reduced.Vulnerability,\n",
    "    y=count_df_reduced.Organisation,\n",
    "    name='Vulnerability',\n",
    "    orientation='h',\n",
    "    )\n",
    ")\n",
    "\n",
    "org_fig.add_trace(go.Bar(\n",
    "    x=count_df_reduced.Exposure,\n",
    "    y=count_df_reduced.Organisation,\n",
    "    name='Exposure',\n",
    "    orientation='h',\n",
    "    )\n",
    ")\n",
    "org_fig.add_trace(go.Bar(\n",
    "    x=count_df_reduced.Hazard,\n",
    "    y=count_df_reduced.Organisation,\n",
    "    name='Hazard',\n",
    "    orientation='h',\n",
    "    )\n",
    ")\n",
    "org_fig.add_trace(go.Bar(\n",
    "    x=count_df_reduced.Background_Support,\n",
    "    y=count_df_reduced.Organisation,\n",
    "    name='Background_Support',\n",
    "    orientation='h',\n",
    "    )\n",
    ")\n",
    "org_fig.add_trace(go.Bar(\n",
    "    x=count_df_reduced.Other,\n",
    "    y=count_df_reduced.Organisation,\n",
    "    name='Other',\n",
    "    orientation='h',\n",
    "    )\n",
    ")\n",
    "org_fig.update_layout(barmode='stack')\n",
    "org_fig.update_xaxes(\n",
    "title_text='No. Identified Datasets')\n",
    "org_fig.show()"
   ]
  },
  {
   "cell_type": "code",
   "execution_count": 71,
   "id": "1ebb3e2e",
   "metadata": {},
   "outputs": [
    {
     "data": {
      "application/vnd.plotly.v1+json": {
       "config": {
        "plotlyServerURL": "https://plot.ly"
       },
       "data": [
        {
         "name": "Vulnerability",
         "type": "bar",
         "x": [
          "Vulnerability"
         ],
         "y": [
          202
         ]
        },
        {
         "name": "Exposure",
         "type": "bar",
         "x": [
          "Exposure"
         ],
         "y": [
          190
         ]
        },
        {
         "name": "Hazard",
         "type": "bar",
         "x": [
          "Hazard"
         ],
         "y": [
          77
         ]
        },
        {
         "name": "Background_Support",
         "type": "bar",
         "x": [
          "Background_Support"
         ],
         "y": [
          83
         ]
        },
        {
         "name": "Other",
         "type": "bar",
         "x": [
          "Other"
         ],
         "y": [
          5
         ]
        }
       ],
       "layout": {
        "template": {
         "data": {
          "bar": [
           {
            "error_x": {
             "color": "#2a3f5f"
            },
            "error_y": {
             "color": "#2a3f5f"
            },
            "marker": {
             "line": {
              "color": "#E5ECF6",
              "width": 0.5
             },
             "pattern": {
              "fillmode": "overlay",
              "size": 10,
              "solidity": 0.2
             }
            },
            "type": "bar"
           }
          ],
          "barpolar": [
           {
            "marker": {
             "line": {
              "color": "#E5ECF6",
              "width": 0.5
             },
             "pattern": {
              "fillmode": "overlay",
              "size": 10,
              "solidity": 0.2
             }
            },
            "type": "barpolar"
           }
          ],
          "carpet": [
           {
            "aaxis": {
             "endlinecolor": "#2a3f5f",
             "gridcolor": "white",
             "linecolor": "white",
             "minorgridcolor": "white",
             "startlinecolor": "#2a3f5f"
            },
            "baxis": {
             "endlinecolor": "#2a3f5f",
             "gridcolor": "white",
             "linecolor": "white",
             "minorgridcolor": "white",
             "startlinecolor": "#2a3f5f"
            },
            "type": "carpet"
           }
          ],
          "choropleth": [
           {
            "colorbar": {
             "outlinewidth": 0,
             "ticks": ""
            },
            "type": "choropleth"
           }
          ],
          "contour": [
           {
            "colorbar": {
             "outlinewidth": 0,
             "ticks": ""
            },
            "colorscale": [
             [
              0,
              "#0d0887"
             ],
             [
              0.1111111111111111,
              "#46039f"
             ],
             [
              0.2222222222222222,
              "#7201a8"
             ],
             [
              0.3333333333333333,
              "#9c179e"
             ],
             [
              0.4444444444444444,
              "#bd3786"
             ],
             [
              0.5555555555555556,
              "#d8576b"
             ],
             [
              0.6666666666666666,
              "#ed7953"
             ],
             [
              0.7777777777777778,
              "#fb9f3a"
             ],
             [
              0.8888888888888888,
              "#fdca26"
             ],
             [
              1,
              "#f0f921"
             ]
            ],
            "type": "contour"
           }
          ],
          "contourcarpet": [
           {
            "colorbar": {
             "outlinewidth": 0,
             "ticks": ""
            },
            "type": "contourcarpet"
           }
          ],
          "heatmap": [
           {
            "colorbar": {
             "outlinewidth": 0,
             "ticks": ""
            },
            "colorscale": [
             [
              0,
              "#0d0887"
             ],
             [
              0.1111111111111111,
              "#46039f"
             ],
             [
              0.2222222222222222,
              "#7201a8"
             ],
             [
              0.3333333333333333,
              "#9c179e"
             ],
             [
              0.4444444444444444,
              "#bd3786"
             ],
             [
              0.5555555555555556,
              "#d8576b"
             ],
             [
              0.6666666666666666,
              "#ed7953"
             ],
             [
              0.7777777777777778,
              "#fb9f3a"
             ],
             [
              0.8888888888888888,
              "#fdca26"
             ],
             [
              1,
              "#f0f921"
             ]
            ],
            "type": "heatmap"
           }
          ],
          "heatmapgl": [
           {
            "colorbar": {
             "outlinewidth": 0,
             "ticks": ""
            },
            "colorscale": [
             [
              0,
              "#0d0887"
             ],
             [
              0.1111111111111111,
              "#46039f"
             ],
             [
              0.2222222222222222,
              "#7201a8"
             ],
             [
              0.3333333333333333,
              "#9c179e"
             ],
             [
              0.4444444444444444,
              "#bd3786"
             ],
             [
              0.5555555555555556,
              "#d8576b"
             ],
             [
              0.6666666666666666,
              "#ed7953"
             ],
             [
              0.7777777777777778,
              "#fb9f3a"
             ],
             [
              0.8888888888888888,
              "#fdca26"
             ],
             [
              1,
              "#f0f921"
             ]
            ],
            "type": "heatmapgl"
           }
          ],
          "histogram": [
           {
            "marker": {
             "pattern": {
              "fillmode": "overlay",
              "size": 10,
              "solidity": 0.2
             }
            },
            "type": "histogram"
           }
          ],
          "histogram2d": [
           {
            "colorbar": {
             "outlinewidth": 0,
             "ticks": ""
            },
            "colorscale": [
             [
              0,
              "#0d0887"
             ],
             [
              0.1111111111111111,
              "#46039f"
             ],
             [
              0.2222222222222222,
              "#7201a8"
             ],
             [
              0.3333333333333333,
              "#9c179e"
             ],
             [
              0.4444444444444444,
              "#bd3786"
             ],
             [
              0.5555555555555556,
              "#d8576b"
             ],
             [
              0.6666666666666666,
              "#ed7953"
             ],
             [
              0.7777777777777778,
              "#fb9f3a"
             ],
             [
              0.8888888888888888,
              "#fdca26"
             ],
             [
              1,
              "#f0f921"
             ]
            ],
            "type": "histogram2d"
           }
          ],
          "histogram2dcontour": [
           {
            "colorbar": {
             "outlinewidth": 0,
             "ticks": ""
            },
            "colorscale": [
             [
              0,
              "#0d0887"
             ],
             [
              0.1111111111111111,
              "#46039f"
             ],
             [
              0.2222222222222222,
              "#7201a8"
             ],
             [
              0.3333333333333333,
              "#9c179e"
             ],
             [
              0.4444444444444444,
              "#bd3786"
             ],
             [
              0.5555555555555556,
              "#d8576b"
             ],
             [
              0.6666666666666666,
              "#ed7953"
             ],
             [
              0.7777777777777778,
              "#fb9f3a"
             ],
             [
              0.8888888888888888,
              "#fdca26"
             ],
             [
              1,
              "#f0f921"
             ]
            ],
            "type": "histogram2dcontour"
           }
          ],
          "mesh3d": [
           {
            "colorbar": {
             "outlinewidth": 0,
             "ticks": ""
            },
            "type": "mesh3d"
           }
          ],
          "parcoords": [
           {
            "line": {
             "colorbar": {
              "outlinewidth": 0,
              "ticks": ""
             }
            },
            "type": "parcoords"
           }
          ],
          "pie": [
           {
            "automargin": true,
            "type": "pie"
           }
          ],
          "scatter": [
           {
            "marker": {
             "colorbar": {
              "outlinewidth": 0,
              "ticks": ""
             }
            },
            "type": "scatter"
           }
          ],
          "scatter3d": [
           {
            "line": {
             "colorbar": {
              "outlinewidth": 0,
              "ticks": ""
             }
            },
            "marker": {
             "colorbar": {
              "outlinewidth": 0,
              "ticks": ""
             }
            },
            "type": "scatter3d"
           }
          ],
          "scattercarpet": [
           {
            "marker": {
             "colorbar": {
              "outlinewidth": 0,
              "ticks": ""
             }
            },
            "type": "scattercarpet"
           }
          ],
          "scattergeo": [
           {
            "marker": {
             "colorbar": {
              "outlinewidth": 0,
              "ticks": ""
             }
            },
            "type": "scattergeo"
           }
          ],
          "scattergl": [
           {
            "marker": {
             "colorbar": {
              "outlinewidth": 0,
              "ticks": ""
             }
            },
            "type": "scattergl"
           }
          ],
          "scattermapbox": [
           {
            "marker": {
             "colorbar": {
              "outlinewidth": 0,
              "ticks": ""
             }
            },
            "type": "scattermapbox"
           }
          ],
          "scatterpolar": [
           {
            "marker": {
             "colorbar": {
              "outlinewidth": 0,
              "ticks": ""
             }
            },
            "type": "scatterpolar"
           }
          ],
          "scatterpolargl": [
           {
            "marker": {
             "colorbar": {
              "outlinewidth": 0,
              "ticks": ""
             }
            },
            "type": "scatterpolargl"
           }
          ],
          "scatterternary": [
           {
            "marker": {
             "colorbar": {
              "outlinewidth": 0,
              "ticks": ""
             }
            },
            "type": "scatterternary"
           }
          ],
          "surface": [
           {
            "colorbar": {
             "outlinewidth": 0,
             "ticks": ""
            },
            "colorscale": [
             [
              0,
              "#0d0887"
             ],
             [
              0.1111111111111111,
              "#46039f"
             ],
             [
              0.2222222222222222,
              "#7201a8"
             ],
             [
              0.3333333333333333,
              "#9c179e"
             ],
             [
              0.4444444444444444,
              "#bd3786"
             ],
             [
              0.5555555555555556,
              "#d8576b"
             ],
             [
              0.6666666666666666,
              "#ed7953"
             ],
             [
              0.7777777777777778,
              "#fb9f3a"
             ],
             [
              0.8888888888888888,
              "#fdca26"
             ],
             [
              1,
              "#f0f921"
             ]
            ],
            "type": "surface"
           }
          ],
          "table": [
           {
            "cells": {
             "fill": {
              "color": "#EBF0F8"
             },
             "line": {
              "color": "white"
             }
            },
            "header": {
             "fill": {
              "color": "#C8D4E3"
             },
             "line": {
              "color": "white"
             }
            },
            "type": "table"
           }
          ]
         },
         "layout": {
          "annotationdefaults": {
           "arrowcolor": "#2a3f5f",
           "arrowhead": 0,
           "arrowwidth": 1
          },
          "autotypenumbers": "strict",
          "coloraxis": {
           "colorbar": {
            "outlinewidth": 0,
            "ticks": ""
           }
          },
          "colorscale": {
           "diverging": [
            [
             0,
             "#8e0152"
            ],
            [
             0.1,
             "#c51b7d"
            ],
            [
             0.2,
             "#de77ae"
            ],
            [
             0.3,
             "#f1b6da"
            ],
            [
             0.4,
             "#fde0ef"
            ],
            [
             0.5,
             "#f7f7f7"
            ],
            [
             0.6,
             "#e6f5d0"
            ],
            [
             0.7,
             "#b8e186"
            ],
            [
             0.8,
             "#7fbc41"
            ],
            [
             0.9,
             "#4d9221"
            ],
            [
             1,
             "#276419"
            ]
           ],
           "sequential": [
            [
             0,
             "#0d0887"
            ],
            [
             0.1111111111111111,
             "#46039f"
            ],
            [
             0.2222222222222222,
             "#7201a8"
            ],
            [
             0.3333333333333333,
             "#9c179e"
            ],
            [
             0.4444444444444444,
             "#bd3786"
            ],
            [
             0.5555555555555556,
             "#d8576b"
            ],
            [
             0.6666666666666666,
             "#ed7953"
            ],
            [
             0.7777777777777778,
             "#fb9f3a"
            ],
            [
             0.8888888888888888,
             "#fdca26"
            ],
            [
             1,
             "#f0f921"
            ]
           ],
           "sequentialminus": [
            [
             0,
             "#0d0887"
            ],
            [
             0.1111111111111111,
             "#46039f"
            ],
            [
             0.2222222222222222,
             "#7201a8"
            ],
            [
             0.3333333333333333,
             "#9c179e"
            ],
            [
             0.4444444444444444,
             "#bd3786"
            ],
            [
             0.5555555555555556,
             "#d8576b"
            ],
            [
             0.6666666666666666,
             "#ed7953"
            ],
            [
             0.7777777777777778,
             "#fb9f3a"
            ],
            [
             0.8888888888888888,
             "#fdca26"
            ],
            [
             1,
             "#f0f921"
            ]
           ]
          },
          "colorway": [
           "#636efa",
           "#EF553B",
           "#00cc96",
           "#ab63fa",
           "#FFA15A",
           "#19d3f3",
           "#FF6692",
           "#B6E880",
           "#FF97FF",
           "#FECB52"
          ],
          "font": {
           "color": "#2a3f5f"
          },
          "geo": {
           "bgcolor": "white",
           "lakecolor": "white",
           "landcolor": "#E5ECF6",
           "showlakes": true,
           "showland": true,
           "subunitcolor": "white"
          },
          "hoverlabel": {
           "align": "left"
          },
          "hovermode": "closest",
          "mapbox": {
           "style": "light"
          },
          "paper_bgcolor": "white",
          "plot_bgcolor": "#E5ECF6",
          "polar": {
           "angularaxis": {
            "gridcolor": "white",
            "linecolor": "white",
            "ticks": ""
           },
           "bgcolor": "#E5ECF6",
           "radialaxis": {
            "gridcolor": "white",
            "linecolor": "white",
            "ticks": ""
           }
          },
          "scene": {
           "xaxis": {
            "backgroundcolor": "#E5ECF6",
            "gridcolor": "white",
            "gridwidth": 2,
            "linecolor": "white",
            "showbackground": true,
            "ticks": "",
            "zerolinecolor": "white"
           },
           "yaxis": {
            "backgroundcolor": "#E5ECF6",
            "gridcolor": "white",
            "gridwidth": 2,
            "linecolor": "white",
            "showbackground": true,
            "ticks": "",
            "zerolinecolor": "white"
           },
           "zaxis": {
            "backgroundcolor": "#E5ECF6",
            "gridcolor": "white",
            "gridwidth": 2,
            "linecolor": "white",
            "showbackground": true,
            "ticks": "",
            "zerolinecolor": "white"
           }
          },
          "shapedefaults": {
           "line": {
            "color": "#2a3f5f"
           }
          },
          "ternary": {
           "aaxis": {
            "gridcolor": "white",
            "linecolor": "white",
            "ticks": ""
           },
           "baxis": {
            "gridcolor": "white",
            "linecolor": "white",
            "ticks": ""
           },
           "bgcolor": "#E5ECF6",
           "caxis": {
            "gridcolor": "white",
            "linecolor": "white",
            "ticks": ""
           }
          },
          "title": {
           "x": 0.05
          },
          "xaxis": {
           "automargin": true,
           "gridcolor": "white",
           "linecolor": "white",
           "ticks": "",
           "title": {
            "standoff": 15
           },
           "zerolinecolor": "white",
           "zerolinewidth": 2
          },
          "yaxis": {
           "automargin": true,
           "gridcolor": "white",
           "linecolor": "white",
           "ticks": "",
           "title": {
            "standoff": 15
           },
           "zerolinecolor": "white",
           "zerolinewidth": 2
          }
         }
        },
        "yaxis": {
         "title": {
          "text": "No. Identified Datasets"
         }
        }
       }
      },
      "text/html": [
       "<div>                            <div id=\"9bea2ece-1ef8-4cd7-86bc-50f420ae6a74\" class=\"plotly-graph-div\" style=\"height:525px; width:100%;\"></div>            <script type=\"text/javascript\">                require([\"plotly\"], function(Plotly) {                    window.PLOTLYENV=window.PLOTLYENV || {};                                    if (document.getElementById(\"9bea2ece-1ef8-4cd7-86bc-50f420ae6a74\")) {                    Plotly.newPlot(                        \"9bea2ece-1ef8-4cd7-86bc-50f420ae6a74\",                        [{\"name\":\"Vulnerability\",\"type\":\"bar\",\"x\":[\"Vulnerability\"],\"y\":[202]},{\"name\":\"Exposure\",\"type\":\"bar\",\"x\":[\"Exposure\"],\"y\":[190]},{\"name\":\"Hazard\",\"type\":\"bar\",\"x\":[\"Hazard\"],\"y\":[77]},{\"name\":\"Background_Support\",\"type\":\"bar\",\"x\":[\"Background_Support\"],\"y\":[83]},{\"name\":\"Other\",\"type\":\"bar\",\"x\":[\"Other\"],\"y\":[5]}],                        {\"template\":{\"data\":{\"bar\":[{\"error_x\":{\"color\":\"#2a3f5f\"},\"error_y\":{\"color\":\"#2a3f5f\"},\"marker\":{\"line\":{\"color\":\"#E5ECF6\",\"width\":0.5},\"pattern\":{\"fillmode\":\"overlay\",\"size\":10,\"solidity\":0.2}},\"type\":\"bar\"}],\"barpolar\":[{\"marker\":{\"line\":{\"color\":\"#E5ECF6\",\"width\":0.5},\"pattern\":{\"fillmode\":\"overlay\",\"size\":10,\"solidity\":0.2}},\"type\":\"barpolar\"}],\"carpet\":[{\"aaxis\":{\"endlinecolor\":\"#2a3f5f\",\"gridcolor\":\"white\",\"linecolor\":\"white\",\"minorgridcolor\":\"white\",\"startlinecolor\":\"#2a3f5f\"},\"baxis\":{\"endlinecolor\":\"#2a3f5f\",\"gridcolor\":\"white\",\"linecolor\":\"white\",\"minorgridcolor\":\"white\",\"startlinecolor\":\"#2a3f5f\"},\"type\":\"carpet\"}],\"choropleth\":[{\"colorbar\":{\"outlinewidth\":0,\"ticks\":\"\"},\"type\":\"choropleth\"}],\"contour\":[{\"colorbar\":{\"outlinewidth\":0,\"ticks\":\"\"},\"colorscale\":[[0.0,\"#0d0887\"],[0.1111111111111111,\"#46039f\"],[0.2222222222222222,\"#7201a8\"],[0.3333333333333333,\"#9c179e\"],[0.4444444444444444,\"#bd3786\"],[0.5555555555555556,\"#d8576b\"],[0.6666666666666666,\"#ed7953\"],[0.7777777777777778,\"#fb9f3a\"],[0.8888888888888888,\"#fdca26\"],[1.0,\"#f0f921\"]],\"type\":\"contour\"}],\"contourcarpet\":[{\"colorbar\":{\"outlinewidth\":0,\"ticks\":\"\"},\"type\":\"contourcarpet\"}],\"heatmap\":[{\"colorbar\":{\"outlinewidth\":0,\"ticks\":\"\"},\"colorscale\":[[0.0,\"#0d0887\"],[0.1111111111111111,\"#46039f\"],[0.2222222222222222,\"#7201a8\"],[0.3333333333333333,\"#9c179e\"],[0.4444444444444444,\"#bd3786\"],[0.5555555555555556,\"#d8576b\"],[0.6666666666666666,\"#ed7953\"],[0.7777777777777778,\"#fb9f3a\"],[0.8888888888888888,\"#fdca26\"],[1.0,\"#f0f921\"]],\"type\":\"heatmap\"}],\"heatmapgl\":[{\"colorbar\":{\"outlinewidth\":0,\"ticks\":\"\"},\"colorscale\":[[0.0,\"#0d0887\"],[0.1111111111111111,\"#46039f\"],[0.2222222222222222,\"#7201a8\"],[0.3333333333333333,\"#9c179e\"],[0.4444444444444444,\"#bd3786\"],[0.5555555555555556,\"#d8576b\"],[0.6666666666666666,\"#ed7953\"],[0.7777777777777778,\"#fb9f3a\"],[0.8888888888888888,\"#fdca26\"],[1.0,\"#f0f921\"]],\"type\":\"heatmapgl\"}],\"histogram\":[{\"marker\":{\"pattern\":{\"fillmode\":\"overlay\",\"size\":10,\"solidity\":0.2}},\"type\":\"histogram\"}],\"histogram2d\":[{\"colorbar\":{\"outlinewidth\":0,\"ticks\":\"\"},\"colorscale\":[[0.0,\"#0d0887\"],[0.1111111111111111,\"#46039f\"],[0.2222222222222222,\"#7201a8\"],[0.3333333333333333,\"#9c179e\"],[0.4444444444444444,\"#bd3786\"],[0.5555555555555556,\"#d8576b\"],[0.6666666666666666,\"#ed7953\"],[0.7777777777777778,\"#fb9f3a\"],[0.8888888888888888,\"#fdca26\"],[1.0,\"#f0f921\"]],\"type\":\"histogram2d\"}],\"histogram2dcontour\":[{\"colorbar\":{\"outlinewidth\":0,\"ticks\":\"\"},\"colorscale\":[[0.0,\"#0d0887\"],[0.1111111111111111,\"#46039f\"],[0.2222222222222222,\"#7201a8\"],[0.3333333333333333,\"#9c179e\"],[0.4444444444444444,\"#bd3786\"],[0.5555555555555556,\"#d8576b\"],[0.6666666666666666,\"#ed7953\"],[0.7777777777777778,\"#fb9f3a\"],[0.8888888888888888,\"#fdca26\"],[1.0,\"#f0f921\"]],\"type\":\"histogram2dcontour\"}],\"mesh3d\":[{\"colorbar\":{\"outlinewidth\":0,\"ticks\":\"\"},\"type\":\"mesh3d\"}],\"parcoords\":[{\"line\":{\"colorbar\":{\"outlinewidth\":0,\"ticks\":\"\"}},\"type\":\"parcoords\"}],\"pie\":[{\"automargin\":true,\"type\":\"pie\"}],\"scatter\":[{\"marker\":{\"colorbar\":{\"outlinewidth\":0,\"ticks\":\"\"}},\"type\":\"scatter\"}],\"scatter3d\":[{\"line\":{\"colorbar\":{\"outlinewidth\":0,\"ticks\":\"\"}},\"marker\":{\"colorbar\":{\"outlinewidth\":0,\"ticks\":\"\"}},\"type\":\"scatter3d\"}],\"scattercarpet\":[{\"marker\":{\"colorbar\":{\"outlinewidth\":0,\"ticks\":\"\"}},\"type\":\"scattercarpet\"}],\"scattergeo\":[{\"marker\":{\"colorbar\":{\"outlinewidth\":0,\"ticks\":\"\"}},\"type\":\"scattergeo\"}],\"scattergl\":[{\"marker\":{\"colorbar\":{\"outlinewidth\":0,\"ticks\":\"\"}},\"type\":\"scattergl\"}],\"scattermapbox\":[{\"marker\":{\"colorbar\":{\"outlinewidth\":0,\"ticks\":\"\"}},\"type\":\"scattermapbox\"}],\"scatterpolar\":[{\"marker\":{\"colorbar\":{\"outlinewidth\":0,\"ticks\":\"\"}},\"type\":\"scatterpolar\"}],\"scatterpolargl\":[{\"marker\":{\"colorbar\":{\"outlinewidth\":0,\"ticks\":\"\"}},\"type\":\"scatterpolargl\"}],\"scatterternary\":[{\"marker\":{\"colorbar\":{\"outlinewidth\":0,\"ticks\":\"\"}},\"type\":\"scatterternary\"}],\"surface\":[{\"colorbar\":{\"outlinewidth\":0,\"ticks\":\"\"},\"colorscale\":[[0.0,\"#0d0887\"],[0.1111111111111111,\"#46039f\"],[0.2222222222222222,\"#7201a8\"],[0.3333333333333333,\"#9c179e\"],[0.4444444444444444,\"#bd3786\"],[0.5555555555555556,\"#d8576b\"],[0.6666666666666666,\"#ed7953\"],[0.7777777777777778,\"#fb9f3a\"],[0.8888888888888888,\"#fdca26\"],[1.0,\"#f0f921\"]],\"type\":\"surface\"}],\"table\":[{\"cells\":{\"fill\":{\"color\":\"#EBF0F8\"},\"line\":{\"color\":\"white\"}},\"header\":{\"fill\":{\"color\":\"#C8D4E3\"},\"line\":{\"color\":\"white\"}},\"type\":\"table\"}]},\"layout\":{\"annotationdefaults\":{\"arrowcolor\":\"#2a3f5f\",\"arrowhead\":0,\"arrowwidth\":1},\"autotypenumbers\":\"strict\",\"coloraxis\":{\"colorbar\":{\"outlinewidth\":0,\"ticks\":\"\"}},\"colorscale\":{\"diverging\":[[0,\"#8e0152\"],[0.1,\"#c51b7d\"],[0.2,\"#de77ae\"],[0.3,\"#f1b6da\"],[0.4,\"#fde0ef\"],[0.5,\"#f7f7f7\"],[0.6,\"#e6f5d0\"],[0.7,\"#b8e186\"],[0.8,\"#7fbc41\"],[0.9,\"#4d9221\"],[1,\"#276419\"]],\"sequential\":[[0.0,\"#0d0887\"],[0.1111111111111111,\"#46039f\"],[0.2222222222222222,\"#7201a8\"],[0.3333333333333333,\"#9c179e\"],[0.4444444444444444,\"#bd3786\"],[0.5555555555555556,\"#d8576b\"],[0.6666666666666666,\"#ed7953\"],[0.7777777777777778,\"#fb9f3a\"],[0.8888888888888888,\"#fdca26\"],[1.0,\"#f0f921\"]],\"sequentialminus\":[[0.0,\"#0d0887\"],[0.1111111111111111,\"#46039f\"],[0.2222222222222222,\"#7201a8\"],[0.3333333333333333,\"#9c179e\"],[0.4444444444444444,\"#bd3786\"],[0.5555555555555556,\"#d8576b\"],[0.6666666666666666,\"#ed7953\"],[0.7777777777777778,\"#fb9f3a\"],[0.8888888888888888,\"#fdca26\"],[1.0,\"#f0f921\"]]},\"colorway\":[\"#636efa\",\"#EF553B\",\"#00cc96\",\"#ab63fa\",\"#FFA15A\",\"#19d3f3\",\"#FF6692\",\"#B6E880\",\"#FF97FF\",\"#FECB52\"],\"font\":{\"color\":\"#2a3f5f\"},\"geo\":{\"bgcolor\":\"white\",\"lakecolor\":\"white\",\"landcolor\":\"#E5ECF6\",\"showlakes\":true,\"showland\":true,\"subunitcolor\":\"white\"},\"hoverlabel\":{\"align\":\"left\"},\"hovermode\":\"closest\",\"mapbox\":{\"style\":\"light\"},\"paper_bgcolor\":\"white\",\"plot_bgcolor\":\"#E5ECF6\",\"polar\":{\"angularaxis\":{\"gridcolor\":\"white\",\"linecolor\":\"white\",\"ticks\":\"\"},\"bgcolor\":\"#E5ECF6\",\"radialaxis\":{\"gridcolor\":\"white\",\"linecolor\":\"white\",\"ticks\":\"\"}},\"scene\":{\"xaxis\":{\"backgroundcolor\":\"#E5ECF6\",\"gridcolor\":\"white\",\"gridwidth\":2,\"linecolor\":\"white\",\"showbackground\":true,\"ticks\":\"\",\"zerolinecolor\":\"white\"},\"yaxis\":{\"backgroundcolor\":\"#E5ECF6\",\"gridcolor\":\"white\",\"gridwidth\":2,\"linecolor\":\"white\",\"showbackground\":true,\"ticks\":\"\",\"zerolinecolor\":\"white\"},\"zaxis\":{\"backgroundcolor\":\"#E5ECF6\",\"gridcolor\":\"white\",\"gridwidth\":2,\"linecolor\":\"white\",\"showbackground\":true,\"ticks\":\"\",\"zerolinecolor\":\"white\"}},\"shapedefaults\":{\"line\":{\"color\":\"#2a3f5f\"}},\"ternary\":{\"aaxis\":{\"gridcolor\":\"white\",\"linecolor\":\"white\",\"ticks\":\"\"},\"baxis\":{\"gridcolor\":\"white\",\"linecolor\":\"white\",\"ticks\":\"\"},\"bgcolor\":\"#E5ECF6\",\"caxis\":{\"gridcolor\":\"white\",\"linecolor\":\"white\",\"ticks\":\"\"}},\"title\":{\"x\":0.05},\"xaxis\":{\"automargin\":true,\"gridcolor\":\"white\",\"linecolor\":\"white\",\"ticks\":\"\",\"title\":{\"standoff\":15},\"zerolinecolor\":\"white\",\"zerolinewidth\":2},\"yaxis\":{\"automargin\":true,\"gridcolor\":\"white\",\"linecolor\":\"white\",\"ticks\":\"\",\"title\":{\"standoff\":15},\"zerolinecolor\":\"white\",\"zerolinewidth\":2}}},\"yaxis\":{\"title\":{\"text\":\"No. Identified Datasets\"}}},                        {\"responsive\": true}                    ).then(function(){\n",
       "                            \n",
       "var gd = document.getElementById('9bea2ece-1ef8-4cd7-86bc-50f420ae6a74');\n",
       "var x = new MutationObserver(function (mutations, observer) {{\n",
       "        var display = window.getComputedStyle(gd).display;\n",
       "        if (!display || display === 'none') {{\n",
       "            console.log([gd, 'removed!']);\n",
       "            Plotly.purge(gd);\n",
       "            observer.disconnect();\n",
       "        }}\n",
       "}});\n",
       "\n",
       "// Listen for the removal of the full notebook cells\n",
       "var notebookContainer = gd.closest('#notebook-container');\n",
       "if (notebookContainer) {{\n",
       "    x.observe(notebookContainer, {childList: true});\n",
       "}}\n",
       "\n",
       "// Listen for the clearing of the current output cell\n",
       "var outputEl = gd.closest('.output');\n",
       "if (outputEl) {{\n",
       "    x.observe(outputEl, {childList: true});\n",
       "}}\n",
       "\n",
       "                        })                };                });            </script>        </div>"
      ]
     },
     "metadata": {},
     "output_type": "display_data"
    }
   ],
   "source": [
    "cat_fig = go.Figure()\n",
    "cat_fig.add_trace(go.Bar(\n",
    "    x=['Vulnerability'],\n",
    "    y=[count_df_reduced.Vulnerability.sum()],\n",
    "    name='Vulnerability',\n",
    "    )\n",
    ")\n",
    "\n",
    "cat_fig.add_trace(go.Bar(\n",
    "    x=['Exposure'],\n",
    "    y=[count_df_reduced.Exposure.sum()],\n",
    "    name='Exposure',\n",
    "    )\n",
    ")\n",
    "cat_fig.add_trace(go.Bar(\n",
    "    x=['Hazard'],\n",
    "    y=[count_df_reduced.Hazard.sum()],\n",
    "    name='Hazard',\n",
    "    )\n",
    ")\n",
    "cat_fig.add_trace(go.Bar(\n",
    "    x=['Background_Support'],\n",
    "    y=[count_df_reduced.Background_Support.sum()],\n",
    "    name='Background_Support',\n",
    "    )\n",
    ")\n",
    "cat_fig.add_trace(go.Bar(\n",
    "    x=['Other'],\n",
    "    y=[count_df_reduced.Other.sum()],\n",
    "    name='Other',\n",
    "    )\n",
    ")\n",
    "cat_fig.update_yaxes(\n",
    "title_text='No. Identified Datasets')\n",
    "cat_fig.show()"
   ]
  },
  {
   "cell_type": "code",
   "execution_count": null,
   "id": "8085ab29",
   "metadata": {},
   "outputs": [],
   "source": []
  },
  {
   "cell_type": "code",
   "execution_count": null,
   "id": "fd5d9deb",
   "metadata": {},
   "outputs": [],
   "source": []
  }
 ],
 "metadata": {
  "kernelspec": {
   "display_name": "Python 3",
   "language": "python",
   "name": "python3"
  },
  "language_info": {
   "codemirror_mode": {
    "name": "ipython",
    "version": 3
   },
   "file_extension": ".py",
   "mimetype": "text/x-python",
   "name": "python",
   "nbconvert_exporter": "python",
   "pygments_lexer": "ipython3",
   "version": "3.8.10"
  }
 },
 "nbformat": 4,
 "nbformat_minor": 5
}
